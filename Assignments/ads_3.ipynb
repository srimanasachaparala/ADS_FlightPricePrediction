{
  "cells": [
    {
      "cell_type": "markdown",
      "source": [
        "Name: Chaparala Sri Manasa\n",
        "\n",
        "ID No: 20BCE7345"
      ],
      "metadata": {
        "id": "CqInrvxril4u"
      }
    },
    {
      "cell_type": "markdown",
      "metadata": {
        "id": "-A15uXXie1uh"
      },
      "source": [
        "1. download the dataset"
      ]
    },
    {
      "cell_type": "markdown",
      "metadata": {
        "id": "yNVh_cjde1uk"
      },
      "source": [
        "2. load the dataset into the tool"
      ]
    },
    {
      "cell_type": "code",
      "execution_count": null,
      "metadata": {
        "id": "ENy7eokCe1ul"
      },
      "outputs": [],
      "source": [
        "import numpy as np\n",
        "import pandas as pd\n",
        "import matplotlib.pyplot as plt\n",
        "import seaborn as sns"
      ]
    },
    {
      "cell_type": "code",
      "execution_count": null,
      "metadata": {
        "id": "DuqV2GGDe1un"
      },
      "outputs": [],
      "source": [
        "data = pd.read_csv('Housing.csv')"
      ]
    },
    {
      "cell_type": "code",
      "execution_count": null,
      "metadata": {
        "colab": {
          "base_uri": "https://localhost:8080/",
          "height": 487
        },
        "id": "5fL_BHuHe1uo",
        "outputId": "11e5784b-e357-4dc5-b71c-f745787bdcb8"
      },
      "outputs": [
        {
          "output_type": "execute_result",
          "data": {
            "text/plain": [
              "        price  area  bedrooms  bathrooms  stories mainroad guestroom basement  \\\n",
              "0    13300000  7420         4          2        3      yes        no       no   \n",
              "1    12250000  8960         4          4        4      yes        no       no   \n",
              "2    12250000  9960         3          2        2      yes        no      yes   \n",
              "3    12215000  7500         4          2        2      yes        no      yes   \n",
              "4    11410000  7420         4          1        2      yes       yes      yes   \n",
              "..        ...   ...       ...        ...      ...      ...       ...      ...   \n",
              "540   1820000  3000         2          1        1      yes        no      yes   \n",
              "541   1767150  2400         3          1        1       no        no       no   \n",
              "542   1750000  3620         2          1        1      yes        no       no   \n",
              "543   1750000  2910         3          1        1       no        no       no   \n",
              "544   1750000  3850         3          1        2      yes        no       no   \n",
              "\n",
              "    hotwaterheating airconditioning  parking furnishingstatus  \n",
              "0                no             yes        2        furnished  \n",
              "1                no             yes        3        furnished  \n",
              "2                no              no        2   semi-furnished  \n",
              "3                no             yes        3        furnished  \n",
              "4                no             yes        2        furnished  \n",
              "..              ...             ...      ...              ...  \n",
              "540              no              no        2      unfurnished  \n",
              "541              no              no        0   semi-furnished  \n",
              "542              no              no        0      unfurnished  \n",
              "543              no              no        0        furnished  \n",
              "544              no              no        0      unfurnished  \n",
              "\n",
              "[545 rows x 12 columns]"
            ],
            "text/html": [
              "\n",
              "  <div id=\"df-a60eb747-218e-4e1f-975f-e84fd549cbce\">\n",
              "    <div class=\"colab-df-container\">\n",
              "      <div>\n",
              "<style scoped>\n",
              "    .dataframe tbody tr th:only-of-type {\n",
              "        vertical-align: middle;\n",
              "    }\n",
              "\n",
              "    .dataframe tbody tr th {\n",
              "        vertical-align: top;\n",
              "    }\n",
              "\n",
              "    .dataframe thead th {\n",
              "        text-align: right;\n",
              "    }\n",
              "</style>\n",
              "<table border=\"1\" class=\"dataframe\">\n",
              "  <thead>\n",
              "    <tr style=\"text-align: right;\">\n",
              "      <th></th>\n",
              "      <th>price</th>\n",
              "      <th>area</th>\n",
              "      <th>bedrooms</th>\n",
              "      <th>bathrooms</th>\n",
              "      <th>stories</th>\n",
              "      <th>mainroad</th>\n",
              "      <th>guestroom</th>\n",
              "      <th>basement</th>\n",
              "      <th>hotwaterheating</th>\n",
              "      <th>airconditioning</th>\n",
              "      <th>parking</th>\n",
              "      <th>furnishingstatus</th>\n",
              "    </tr>\n",
              "  </thead>\n",
              "  <tbody>\n",
              "    <tr>\n",
              "      <th>0</th>\n",
              "      <td>13300000</td>\n",
              "      <td>7420</td>\n",
              "      <td>4</td>\n",
              "      <td>2</td>\n",
              "      <td>3</td>\n",
              "      <td>yes</td>\n",
              "      <td>no</td>\n",
              "      <td>no</td>\n",
              "      <td>no</td>\n",
              "      <td>yes</td>\n",
              "      <td>2</td>\n",
              "      <td>furnished</td>\n",
              "    </tr>\n",
              "    <tr>\n",
              "      <th>1</th>\n",
              "      <td>12250000</td>\n",
              "      <td>8960</td>\n",
              "      <td>4</td>\n",
              "      <td>4</td>\n",
              "      <td>4</td>\n",
              "      <td>yes</td>\n",
              "      <td>no</td>\n",
              "      <td>no</td>\n",
              "      <td>no</td>\n",
              "      <td>yes</td>\n",
              "      <td>3</td>\n",
              "      <td>furnished</td>\n",
              "    </tr>\n",
              "    <tr>\n",
              "      <th>2</th>\n",
              "      <td>12250000</td>\n",
              "      <td>9960</td>\n",
              "      <td>3</td>\n",
              "      <td>2</td>\n",
              "      <td>2</td>\n",
              "      <td>yes</td>\n",
              "      <td>no</td>\n",
              "      <td>yes</td>\n",
              "      <td>no</td>\n",
              "      <td>no</td>\n",
              "      <td>2</td>\n",
              "      <td>semi-furnished</td>\n",
              "    </tr>\n",
              "    <tr>\n",
              "      <th>3</th>\n",
              "      <td>12215000</td>\n",
              "      <td>7500</td>\n",
              "      <td>4</td>\n",
              "      <td>2</td>\n",
              "      <td>2</td>\n",
              "      <td>yes</td>\n",
              "      <td>no</td>\n",
              "      <td>yes</td>\n",
              "      <td>no</td>\n",
              "      <td>yes</td>\n",
              "      <td>3</td>\n",
              "      <td>furnished</td>\n",
              "    </tr>\n",
              "    <tr>\n",
              "      <th>4</th>\n",
              "      <td>11410000</td>\n",
              "      <td>7420</td>\n",
              "      <td>4</td>\n",
              "      <td>1</td>\n",
              "      <td>2</td>\n",
              "      <td>yes</td>\n",
              "      <td>yes</td>\n",
              "      <td>yes</td>\n",
              "      <td>no</td>\n",
              "      <td>yes</td>\n",
              "      <td>2</td>\n",
              "      <td>furnished</td>\n",
              "    </tr>\n",
              "    <tr>\n",
              "      <th>...</th>\n",
              "      <td>...</td>\n",
              "      <td>...</td>\n",
              "      <td>...</td>\n",
              "      <td>...</td>\n",
              "      <td>...</td>\n",
              "      <td>...</td>\n",
              "      <td>...</td>\n",
              "      <td>...</td>\n",
              "      <td>...</td>\n",
              "      <td>...</td>\n",
              "      <td>...</td>\n",
              "      <td>...</td>\n",
              "    </tr>\n",
              "    <tr>\n",
              "      <th>540</th>\n",
              "      <td>1820000</td>\n",
              "      <td>3000</td>\n",
              "      <td>2</td>\n",
              "      <td>1</td>\n",
              "      <td>1</td>\n",
              "      <td>yes</td>\n",
              "      <td>no</td>\n",
              "      <td>yes</td>\n",
              "      <td>no</td>\n",
              "      <td>no</td>\n",
              "      <td>2</td>\n",
              "      <td>unfurnished</td>\n",
              "    </tr>\n",
              "    <tr>\n",
              "      <th>541</th>\n",
              "      <td>1767150</td>\n",
              "      <td>2400</td>\n",
              "      <td>3</td>\n",
              "      <td>1</td>\n",
              "      <td>1</td>\n",
              "      <td>no</td>\n",
              "      <td>no</td>\n",
              "      <td>no</td>\n",
              "      <td>no</td>\n",
              "      <td>no</td>\n",
              "      <td>0</td>\n",
              "      <td>semi-furnished</td>\n",
              "    </tr>\n",
              "    <tr>\n",
              "      <th>542</th>\n",
              "      <td>1750000</td>\n",
              "      <td>3620</td>\n",
              "      <td>2</td>\n",
              "      <td>1</td>\n",
              "      <td>1</td>\n",
              "      <td>yes</td>\n",
              "      <td>no</td>\n",
              "      <td>no</td>\n",
              "      <td>no</td>\n",
              "      <td>no</td>\n",
              "      <td>0</td>\n",
              "      <td>unfurnished</td>\n",
              "    </tr>\n",
              "    <tr>\n",
              "      <th>543</th>\n",
              "      <td>1750000</td>\n",
              "      <td>2910</td>\n",
              "      <td>3</td>\n",
              "      <td>1</td>\n",
              "      <td>1</td>\n",
              "      <td>no</td>\n",
              "      <td>no</td>\n",
              "      <td>no</td>\n",
              "      <td>no</td>\n",
              "      <td>no</td>\n",
              "      <td>0</td>\n",
              "      <td>furnished</td>\n",
              "    </tr>\n",
              "    <tr>\n",
              "      <th>544</th>\n",
              "      <td>1750000</td>\n",
              "      <td>3850</td>\n",
              "      <td>3</td>\n",
              "      <td>1</td>\n",
              "      <td>2</td>\n",
              "      <td>yes</td>\n",
              "      <td>no</td>\n",
              "      <td>no</td>\n",
              "      <td>no</td>\n",
              "      <td>no</td>\n",
              "      <td>0</td>\n",
              "      <td>unfurnished</td>\n",
              "    </tr>\n",
              "  </tbody>\n",
              "</table>\n",
              "<p>545 rows × 12 columns</p>\n",
              "</div>\n",
              "      <button class=\"colab-df-convert\" onclick=\"convertToInteractive('df-a60eb747-218e-4e1f-975f-e84fd549cbce')\"\n",
              "              title=\"Convert this dataframe to an interactive table.\"\n",
              "              style=\"display:none;\">\n",
              "        \n",
              "  <svg xmlns=\"http://www.w3.org/2000/svg\" height=\"24px\"viewBox=\"0 0 24 24\"\n",
              "       width=\"24px\">\n",
              "    <path d=\"M0 0h24v24H0V0z\" fill=\"none\"/>\n",
              "    <path d=\"M18.56 5.44l.94 2.06.94-2.06 2.06-.94-2.06-.94-.94-2.06-.94 2.06-2.06.94zm-11 1L8.5 8.5l.94-2.06 2.06-.94-2.06-.94L8.5 2.5l-.94 2.06-2.06.94zm10 10l.94 2.06.94-2.06 2.06-.94-2.06-.94-.94-2.06-.94 2.06-2.06.94z\"/><path d=\"M17.41 7.96l-1.37-1.37c-.4-.4-.92-.59-1.43-.59-.52 0-1.04.2-1.43.59L10.3 9.45l-7.72 7.72c-.78.78-.78 2.05 0 2.83L4 21.41c.39.39.9.59 1.41.59.51 0 1.02-.2 1.41-.59l7.78-7.78 2.81-2.81c.8-.78.8-2.07 0-2.86zM5.41 20L4 18.59l7.72-7.72 1.47 1.35L5.41 20z\"/>\n",
              "  </svg>\n",
              "      </button>\n",
              "      \n",
              "  <style>\n",
              "    .colab-df-container {\n",
              "      display:flex;\n",
              "      flex-wrap:wrap;\n",
              "      gap: 12px;\n",
              "    }\n",
              "\n",
              "    .colab-df-convert {\n",
              "      background-color: #E8F0FE;\n",
              "      border: none;\n",
              "      border-radius: 50%;\n",
              "      cursor: pointer;\n",
              "      display: none;\n",
              "      fill: #1967D2;\n",
              "      height: 32px;\n",
              "      padding: 0 0 0 0;\n",
              "      width: 32px;\n",
              "    }\n",
              "\n",
              "    .colab-df-convert:hover {\n",
              "      background-color: #E2EBFA;\n",
              "      box-shadow: 0px 1px 2px rgba(60, 64, 67, 0.3), 0px 1px 3px 1px rgba(60, 64, 67, 0.15);\n",
              "      fill: #174EA6;\n",
              "    }\n",
              "\n",
              "    [theme=dark] .colab-df-convert {\n",
              "      background-color: #3B4455;\n",
              "      fill: #D2E3FC;\n",
              "    }\n",
              "\n",
              "    [theme=dark] .colab-df-convert:hover {\n",
              "      background-color: #434B5C;\n",
              "      box-shadow: 0px 1px 3px 1px rgba(0, 0, 0, 0.15);\n",
              "      filter: drop-shadow(0px 1px 2px rgba(0, 0, 0, 0.3));\n",
              "      fill: #FFFFFF;\n",
              "    }\n",
              "  </style>\n",
              "\n",
              "      <script>\n",
              "        const buttonEl =\n",
              "          document.querySelector('#df-a60eb747-218e-4e1f-975f-e84fd549cbce button.colab-df-convert');\n",
              "        buttonEl.style.display =\n",
              "          google.colab.kernel.accessAllowed ? 'block' : 'none';\n",
              "\n",
              "        async function convertToInteractive(key) {\n",
              "          const element = document.querySelector('#df-a60eb747-218e-4e1f-975f-e84fd549cbce');\n",
              "          const dataTable =\n",
              "            await google.colab.kernel.invokeFunction('convertToInteractive',\n",
              "                                                     [key], {});\n",
              "          if (!dataTable) return;\n",
              "\n",
              "          const docLinkHtml = 'Like what you see? Visit the ' +\n",
              "            '<a target=\"_blank\" href=https://colab.research.google.com/notebooks/data_table.ipynb>data table notebook</a>'\n",
              "            + ' to learn more about interactive tables.';\n",
              "          element.innerHTML = '';\n",
              "          dataTable['output_type'] = 'display_data';\n",
              "          await google.colab.output.renderOutput(dataTable, element);\n",
              "          const docLink = document.createElement('div');\n",
              "          docLink.innerHTML = docLinkHtml;\n",
              "          element.appendChild(docLink);\n",
              "        }\n",
              "      </script>\n",
              "    </div>\n",
              "  </div>\n",
              "  "
            ]
          },
          "metadata": {},
          "execution_count": 3
        }
      ],
      "source": [
        "data"
      ]
    },
    {
      "cell_type": "code",
      "execution_count": null,
      "metadata": {
        "colab": {
          "base_uri": "https://localhost:8080/"
        },
        "id": "uAiJzCaHe1up",
        "outputId": "5abbc1cd-e090-4590-a6d1-f28405a88992"
      },
      "outputs": [
        {
          "output_type": "stream",
          "name": "stdout",
          "text": [
            "<class 'pandas.core.frame.DataFrame'>\n",
            "RangeIndex: 545 entries, 0 to 544\n",
            "Data columns (total 12 columns):\n",
            " #   Column            Non-Null Count  Dtype \n",
            "---  ------            --------------  ----- \n",
            " 0   price             545 non-null    int64 \n",
            " 1   area              545 non-null    int64 \n",
            " 2   bedrooms          545 non-null    int64 \n",
            " 3   bathrooms         545 non-null    int64 \n",
            " 4   stories           545 non-null    int64 \n",
            " 5   mainroad          545 non-null    object\n",
            " 6   guestroom         545 non-null    object\n",
            " 7   basement          545 non-null    object\n",
            " 8   hotwaterheating   545 non-null    object\n",
            " 9   airconditioning   545 non-null    object\n",
            " 10  parking           545 non-null    int64 \n",
            " 11  furnishingstatus  545 non-null    object\n",
            "dtypes: int64(6), object(6)\n",
            "memory usage: 51.2+ KB\n"
          ]
        }
      ],
      "source": [
        "data.info()"
      ]
    },
    {
      "cell_type": "markdown",
      "metadata": {
        "id": "ZYT7A-1ue1uq"
      },
      "source": [
        "3. data visualization"
      ]
    },
    {
      "cell_type": "markdown",
      "metadata": {
        "id": "s1uA3lAge1uq"
      },
      "source": [
        "univariate visualization"
      ]
    },
    {
      "cell_type": "code",
      "execution_count": null,
      "metadata": {
        "colab": {
          "base_uri": "https://localhost:8080/",
          "height": 499
        },
        "id": "5zPOh-j6e1uq",
        "outputId": "118df39b-a35a-4973-b899-1e6215eac3e9"
      },
      "outputs": [
        {
          "output_type": "execute_result",
          "data": {
            "text/plain": [
              "(array([ 73., 198., 117.,  88.,  39.,  15.,   8.,   5.,   0.,   2.]),\n",
              " array([ 1650.,  3105.,  4560.,  6015.,  7470.,  8925., 10380., 11835.,\n",
              "        13290., 14745., 16200.]),\n",
              " <BarContainer object of 10 artists>)"
            ]
          },
          "metadata": {},
          "execution_count": 5
        },
        {
          "output_type": "display_data",
          "data": {
            "text/plain": [
              "<Figure size 640x480 with 1 Axes>"
            ],
            "image/png": "[encoded data removed]"
          },
          "metadata": {}
        }
      ],
      "source": [
        "plt.hist(data['area'])"
      ]
    },
    {
      "cell_type": "code",
      "execution_count": null,
      "metadata": {
        "colab": {
          "base_uri": "https://localhost:8080/",
          "height": 569
        },
        "id": "3866Mrzhe1ur",
        "outputId": "0cbb61fb-206a-4069-cd58-1e622234008e"
      },
      "outputs": [
        {
          "output_type": "execute_result",
          "data": {
            "text/plain": [
              "{'whiskers': [<matplotlib.lines.Line2D at 0x7f0b1dff56c0>,\n",
              "  <matplotlib.lines.Line2D at 0x7f0b1dff5960>],\n",
              " 'caps': [<matplotlib.lines.Line2D at 0x7f0b1dff5c00>,\n",
              "  <matplotlib.lines.Line2D at 0x7f0b1dff5ea0>],\n",
              " 'boxes': [<matplotlib.lines.Line2D at 0x7f0b1dff5420>],\n",
              " 'medians': [<matplotlib.lines.Line2D at 0x7f0b1dff6140>],\n",
              " 'fliers': [<matplotlib.lines.Line2D at 0x7f0b1dff63e0>],\n",
              " 'means': []}"
            ]
          },
          "metadata": {},
          "execution_count": 6
        },
        {
          "output_type": "display_data",
          "data": {
            "text/plain": [
              "<Figure size 640x480 with 1 Axes>"
            ],
            "image/png": "[encoded data removed]"
          },
          "metadata": {}
        }
      ],
      "source": [
        "plt.boxplot(data['parking'])"
      ]
    },
    {
      "cell_type": "code",
      "execution_count": null,
      "metadata": {
        "colab": {
          "base_uri": "https://localhost:8080/"
        },
        "id": "FTrx_y0Pe1ur",
        "outputId": "4351996b-33a1-427b-c2aa-4cd2c0358182"
      },
      "outputs": [
        {
          "output_type": "execute_result",
          "data": {
            "text/plain": [
              "semi-furnished    227\n",
              "unfurnished       178\n",
              "furnished         140\n",
              "Name: furnishingstatus, dtype: int64"
            ]
          },
          "metadata": {},
          "execution_count": 14
        }
      ],
      "source": [
        "furnished = data['furnishingstatus'].value_counts()\n",
        "furnished"
      ]
    },
    {
      "cell_type": "code",
      "execution_count": null,
      "metadata": {
        "colab": {
          "base_uri": "https://localhost:8080/",
          "height": 562
        },
        "id": "Ht9V8KLLe1ur",
        "outputId": "88ac3da2-f057-41d1-f9a3-a51a9583d83a"
      },
      "outputs": [
        {
          "output_type": "execute_result",
          "data": {
            "text/plain": [
              "([<matplotlib.patches.Wedge at 0x7f0b20125420>,\n",
              "  <matplotlib.patches.Wedge at 0x7f0b20124ee0>,\n",
              "  <matplotlib.patches.Wedge at 0x7f0b1e043070>],\n",
              " [Text(0.28521128309432414, 1.0623815340995388, 'semi-furnished'),\n",
              "  Text(-0.9645476294288756, -0.5288174264934321, 'furnished'),\n",
              "  Text(0.7608233961924185, -0.7944480850289933, 'unfurnished')],\n",
              " [Text(0.15556979077872224, 0.5794808367815666, '41.65'),\n",
              "  Text(-0.5261168887793867, -0.2884458689964175, '32.66'),\n",
              "  Text(0.4149945797413191, -0.43333531910672357, '25.69')])"
            ]
          },
          "metadata": {},
          "execution_count": 8
        },
        {
          "output_type": "display_data",
          "data": {
            "text/plain": [
              "<Figure size 640x480 with 1 Axes>"
            ],
            "image/png": "[encoded data removed]"
          },
          "metadata": {}
        }
      ],
      "source": [
        "plt.pie(furnished,autopct = '%.2f',labels=['semi-furnished','furnished','unfurnished'])"
      ]
    },
    {
      "cell_type": "markdown",
      "metadata": {
        "id": "XP4cg4fee1us"
      },
      "source": [
        "bivariate visualization"
      ]
    },
    {
      "cell_type": "code",
      "execution_count": null,
      "metadata": {
        "colab": {
          "base_uri": "https://localhost:8080/",
          "height": 466
        },
        "id": "-8YEa48Re1us",
        "outputId": "2da3c425-ee72-413a-eb81-bc5d696abcb6"
      },
      "outputs": [
        {
          "output_type": "execute_result",
          "data": {
            "text/plain": [
              "Text(0, 0.5, 'area')"
            ]
          },
          "metadata": {},
          "execution_count": 9
        },
        {
          "output_type": "display_data",
          "data": {
            "text/plain": [
              "<Figure size 640x480 with 1 Axes>"
            ],
            "image/png": "[encoded data removed]"
          },
          "metadata": {}
        }
      ],
      "source": [
        "plt.plot(data['price'],data['area'])\n",
        "plt.xlabel('price')\n",
        "plt.ylabel('area')"
      ]
    },
    {
      "cell_type": "code",
      "execution_count": null,
      "metadata": {
        "colab": {
          "base_uri": "https://localhost:8080/",
          "height": 165
        },
        "id": "gtKl1wOVe1us",
        "outputId": "97f085e3-5e78-4bb0-916b-0dc4d63d2194"
      },
      "outputs": [
        {
          "output_type": "error",
          "ename": "TypeError",
          "evalue": "ignored",
          "traceback": [
            "\u001b[0;31m---------------------------------------------------------------------------\u001b[0m",
            "\u001b[0;31mTypeError\u001b[0m                                 Traceback (most recent call last)",
            "\u001b[0;32m<ipython-input-13-b0d34c9ea673>\u001b[0m in \u001b[0;36m<cell line: 1>\u001b[0;34m()\u001b[0m\n\u001b[0;32m----> 1\u001b[0;31m \u001b[0msns\u001b[0m\u001b[0;34m.\u001b[0m\u001b[0mbarplot\u001b[0m\u001b[0;34m(\u001b[0m\u001b[0mdata\u001b[0m\u001b[0;34m[\u001b[0m\u001b[0;34m'furnishingstatus'\u001b[0m\u001b[0;34m]\u001b[0m\u001b[0;34m,\u001b[0m\u001b[0mdata\u001b[0m\u001b[0;34m[\u001b[0m\u001b[0;34m'area'\u001b[0m\u001b[0;34m]\u001b[0m\u001b[0;34m)\u001b[0m\u001b[0;34m\u001b[0m\u001b[0;34m\u001b[0m\u001b[0m\n\u001b[0m",
            "\u001b[0;31mTypeError\u001b[0m: barplot() takes from 0 to 1 positional arguments but 2 were given"
          ]
        }
      ],
      "source": [
        "sns.barplot(data['furnishingstatus'],data['area'])"
      ]
    },
    {
      "cell_type": "markdown",
      "metadata": {
        "id": "XFUsR1xge1ut"
      },
      "source": [
        "multivariate analysis"
      ]
    },
    {
      "cell_type": "code",
      "execution_count": null,
      "metadata": {
        "colab": {
          "base_uri": "https://localhost:8080/"
        },
        "id": "nmGF-43Ce1ut",
        "outputId": "227b6e8d-de1c-4f20-f6f0-84e26494a8ec"
      },
      "outputs": [
        {
          "output_type": "stream",
          "name": "stderr",
          "text": [
            "<ipython-input-11-3b159a1086fc>:1: FutureWarning: The default value of numeric_only in DataFrame.corr is deprecated. In a future version, it will default to False. Select only valid columns or specify the value of numeric_only to silence this warning.\n",
            "  heat = data.corr()\n"
          ]
        }
      ],
      "source": [
        "heat = data.corr()"
      ]
    },
    {
      "cell_type": "code",
      "execution_count": null,
      "metadata": {
        "colab": {
          "base_uri": "https://localhost:8080/",
          "height": 513
        },
        "id": "8b78b2z8e1ut",
        "outputId": "5780a035-c066-4a3a-e5bf-2c9c77ffb363"
      },
      "outputs": [
        {
          "output_type": "execute_result",
          "data": {
            "text/plain": [
              "<Axes: >"
            ]
          },
          "metadata": {},
          "execution_count": 12
        },
        {
          "output_type": "display_data",
          "data": {
            "text/plain": [
              "<Figure size 640x480 with 2 Axes>"
            ],
            "image/png": "[encoded data removed]"
          },
          "metadata": {}
        }
      ],
      "source": [
        "sns.heatmap(heat)"
      ]
    },
    {
      "cell_type": "code",
      "execution_count": null,
      "metadata": {
        "id": "h7F-OGcOe1uu",
        "outputId": "c2588524-c419-4283-8998-423cb3542a3b"
      },
      "outputs": [
        {
          "data": {
            "text/plain": [
              "<seaborn.axisgrid.FacetGrid at 0x1d2a26270d0>"
            ]
          },
          "execution_count": 13,
          "metadata": {},
          "output_type": "execute_result"
        },
        {
          "data": {
            "image/png": "[encoded data removed]",
            "text/plain": [
              "<Figure size 864x216 with 4 Axes>"
            ]
          },
          "metadata": {
            "needs_background": "light"
          },
          "output_type": "display_data"
        }
      ],
      "source": [
        "ploting = sns.FacetGrid(data,col='parking',hue='furnishingstatus')\n",
        "ploting.map(sns.scatterplot,'price','bedrooms',alpha=.7)"
      ]
    },
    {
      "cell_type": "markdown",
      "metadata": {
        "id": "eQOehp5ye1uu"
      },
      "source": [
        "4. perform descriptive statistics on the dataset"
      ]
    },
    {
      "cell_type": "code",
      "execution_count": null,
      "metadata": {
        "id": "LPGqtbK0e1uu",
        "outputId": "d8d80e65-3a44-433c-a84a-47df7af5c720"
      },
      "outputs": [
        {
          "name": "stdout",
          "output_type": "stream",
          "text": [
            "              price          area    bedrooms   bathrooms     stories  \\\n",
            "count  5.450000e+02    545.000000  545.000000  545.000000  545.000000   \n",
            "mean   4.766729e+06   5150.541284    2.965138    1.286239    1.805505   \n",
            "std    1.870440e+06   2170.141023    0.738064    0.502470    0.867492   \n",
            "min    1.750000e+06   1650.000000    1.000000    1.000000    1.000000   \n",
            "25%    3.430000e+06   3600.000000    2.000000    1.000000    1.000000   \n",
            "50%    4.340000e+06   4600.000000    3.000000    1.000000    2.000000   \n",
            "75%    5.740000e+06   6360.000000    3.000000    2.000000    2.000000   \n",
            "max    1.330000e+07  16200.000000    6.000000    4.000000    4.000000   \n",
            "\n",
            "          parking  \n",
            "count  545.000000  \n",
            "mean     0.693578  \n",
            "std      0.861586  \n",
            "min      0.000000  \n",
            "25%      0.000000  \n",
            "50%      0.000000  \n",
            "75%      1.000000  \n",
            "max      3.000000  \n",
            "median\n",
            "price        4340000.0\n",
            "area            4600.0\n",
            "bedrooms           3.0\n",
            "bathrooms          1.0\n",
            "stories            2.0\n",
            "parking            0.0\n",
            "dtype: float64\n",
            "mode\n",
            "     price    area  bedrooms  bathrooms  stories mainroad guestroom basement  \\\n",
            "0  3500000  6000.0       3.0        1.0      2.0      yes        no       no   \n",
            "1  4200000     NaN       NaN        NaN      NaN      NaN       NaN      NaN   \n",
            "\n",
            "  hotwaterheating airconditioning  parking furnishingstatus  \n",
            "0              no              no      0.0   semi-furnished  \n",
            "1             NaN             NaN      NaN              NaN  \n",
            "price        1.960130\n",
            "area         2.751480\n",
            "bedrooms     0.728323\n",
            "bathrooms    2.164856\n",
            "stories      0.679404\n",
            "parking     -0.573063\n",
            "dtype: float64\n",
            "printing quartile\n",
            "          price    area  bedrooms  bathrooms  stories  parking\n",
            "0.75  5740000.0  6360.0       3.0        2.0      2.0      1.0\n",
            "0.25  3430000.0  3600.0       2.0        1.0      1.0      0.0\n",
            "price        5740000.0\n",
            "area            6360.0\n",
            "bedrooms           3.0\n",
            "bathrooms          2.0\n",
            "stories            2.0\n",
            "parking            1.0\n",
            "Name: 0.75, dtype: float64\n",
            "price        4340000.0\n",
            "area            4600.0\n",
            "bedrooms           3.0\n",
            "bathrooms          1.0\n",
            "stories            2.0\n",
            "parking            0.0\n",
            "Name: 0.5, dtype: float64\n",
            "price        3430000.0\n",
            "area            3600.0\n",
            "bedrooms           2.0\n",
            "bathrooms          1.0\n",
            "stories            1.0\n",
            "parking            0.0\n",
            "Name: 0.25, dtype: float64\n"
          ]
        }
      ],
      "source": [
        "print(data.describe())\n",
        "\n",
        "print('median')\n",
        "print(data.median())\n",
        "\n",
        "print('mode')\n",
        "print(data.mode())\n",
        "\n",
        "print(data.kurt())\n",
        "\n",
        "print('printing quartile')\n",
        "quantile=data.quantile(q=[0.75,0.25])\n",
        "print(quantile)\n",
        "print(quantile.iloc[0])\n",
        "print(data.quantile(0.5))\n",
        "print(quantile.iloc[1])"
      ]
    },
    {
      "cell_type": "markdown",
      "metadata": {
        "id": "F_q469IFe1uv"
      },
      "source": [
        "5. check for missing values and deal with them"
      ]
    },
    {
      "cell_type": "code",
      "execution_count": null,
      "metadata": {
        "id": "jHLeHnTFe1uw",
        "outputId": "fd6ca140-8d05-4142-e4e1-b5075acfa11e"
      },
      "outputs": [
        {
          "data": {
            "text/plain": [
              "price               0\n",
              "area                0\n",
              "bedrooms            0\n",
              "bathrooms           0\n",
              "stories             0\n",
              "mainroad            0\n",
              "guestroom           0\n",
              "basement            0\n",
              "hotwaterheating     0\n",
              "airconditioning     0\n",
              "parking             0\n",
              "furnishingstatus    0\n",
              "dtype: int64"
            ]
          },
          "execution_count": 15,
          "metadata": {},
          "output_type": "execute_result"
        }
      ],
      "source": [
        "data.isnull().sum()"
      ]
    },
    {
      "cell_type": "markdown",
      "metadata": {
        "id": "Exd-dU3Pe1uw"
      },
      "source": [
        "6. find the outliers and deal with them"
      ]
    },
    {
      "cell_type": "code",
      "execution_count": null,
      "metadata": {
        "id": "QnTlashie1ux",
        "outputId": "a082b07a-9b21-48bc-8bf5-a0c0341d8b2e"
      },
      "outputs": [
        {
          "data": {
            "text/plain": [
              "{'whiskers': [<matplotlib.lines.Line2D at 0x1d2a27eb040>,\n",
              "  <matplotlib.lines.Line2D at 0x1d2a27eb3a0>],\n",
              " 'caps': [<matplotlib.lines.Line2D at 0x1d2a27eb700>,\n",
              "  <matplotlib.lines.Line2D at 0x1d2a27eba60>],\n",
              " 'boxes': [<matplotlib.lines.Line2D at 0x1d2a27deca0>],\n",
              " 'medians': [<matplotlib.lines.Line2D at 0x1d2a27ebdc0>],\n",
              " 'fliers': [<matplotlib.lines.Line2D at 0x1d2a27f7100>],\n",
              " 'means': []}"
            ]
          },
          "execution_count": 16,
          "metadata": {},
          "output_type": "execute_result"
        },
        {
          "data": {
            "image/png": "[encoded data removed]",
            "text/plain": [
              "<Figure size 432x288 with 1 Axes>"
            ]
          },
          "metadata": {
            "needs_background": "light"
          },
          "output_type": "display_data"
        }
      ],
      "source": [
        "plt.boxplot(data['area'])"
      ]
    },
    {
      "cell_type": "code",
      "execution_count": null,
      "metadata": {
        "id": "5Qzl1Ra3e1ux",
        "outputId": "cb55732f-a814-4dff-f0e6-001acc1d8bca"
      },
      "outputs": [
        {
          "data": {
            "text/plain": [
              "13200.0"
            ]
          },
          "execution_count": 17,
          "metadata": {},
          "output_type": "execute_result"
        }
      ],
      "source": [
        "perc = data.area.quantile(0.995)\n",
        "perc"
      ]
    },
    {
      "cell_type": "code",
      "execution_count": null,
      "metadata": {
        "id": "uib2vIBte1ux"
      },
      "outputs": [],
      "source": [
        "data = data[data.area<perc]"
      ]
    },
    {
      "cell_type": "code",
      "execution_count": null,
      "metadata": {
        "id": "6ZK0WGVwe1ux",
        "outputId": "c8d9ce2d-9a15-45fd-8bff-9a60e90402ae"
      },
      "outputs": [
        {
          "data": {
            "text/plain": [
              "{'whiskers': [<matplotlib.lines.Line2D at 0x1d2a248bbe0>,\n",
              "  <matplotlib.lines.Line2D at 0x1d2a23ca040>],\n",
              " 'caps': [<matplotlib.lines.Line2D at 0x1d2a23ca9d0>,\n",
              "  <matplotlib.lines.Line2D at 0x1d2a253fc40>],\n",
              " 'boxes': [<matplotlib.lines.Line2D at 0x1d2a2429bb0>],\n",
              " 'medians': [<matplotlib.lines.Line2D at 0x1d2a2587f10>],\n",
              " 'fliers': [<matplotlib.lines.Line2D at 0x1d2a2592700>],\n",
              " 'means': []}"
            ]
          },
          "execution_count": 19,
          "metadata": {},
          "output_type": "execute_result"
        },
        {
          "data": {
            "image/png": "[encoded data removed]",
            "text/plain": [
              "<Figure size 432x288 with 1 Axes>"
            ]
          },
          "metadata": {
            "needs_background": "light"
          },
          "output_type": "display_data"
        }
      ],
      "source": [
        "plt.boxplot(data['area'])"
      ]
    },
    {
      "cell_type": "code",
      "execution_count": null,
      "metadata": {
        "id": "sU5wweBIe1uy",
        "outputId": "507505d2-f29a-490d-a4c0-f936137ea451"
      },
      "outputs": [
        {
          "data": {
            "text/html": [
              "<div>\n",
              "<style scoped>\n",
              "    .dataframe tbody tr th:only-of-type {\n",
              "        vertical-align: middle;\n",
              "    }\n",
              "\n",
              "    .dataframe tbody tr th {\n",
              "        vertical-align: top;\n",
              "    }\n",
              "\n",
              "    .dataframe thead th {\n",
              "        text-align: right;\n",
              "    }\n",
              "</style>\n",
              "<table border=\"1\" class=\"dataframe\">\n",
              "  <thead>\n",
              "    <tr style=\"text-align: right;\">\n",
              "      <th></th>\n",
              "      <th>price</th>\n",
              "      <th>area</th>\n",
              "      <th>bedrooms</th>\n",
              "      <th>bathrooms</th>\n",
              "      <th>stories</th>\n",
              "      <th>mainroad</th>\n",
              "      <th>guestroom</th>\n",
              "      <th>basement</th>\n",
              "      <th>hotwaterheating</th>\n",
              "      <th>airconditioning</th>\n",
              "      <th>parking</th>\n",
              "      <th>furnishingstatus</th>\n",
              "    </tr>\n",
              "  </thead>\n",
              "  <tbody>\n",
              "    <tr>\n",
              "      <th>0</th>\n",
              "      <td>13300000</td>\n",
              "      <td>7420</td>\n",
              "      <td>4</td>\n",
              "      <td>2</td>\n",
              "      <td>3</td>\n",
              "      <td>yes</td>\n",
              "      <td>no</td>\n",
              "      <td>no</td>\n",
              "      <td>no</td>\n",
              "      <td>yes</td>\n",
              "      <td>2</td>\n",
              "      <td>furnished</td>\n",
              "    </tr>\n",
              "    <tr>\n",
              "      <th>1</th>\n",
              "      <td>12250000</td>\n",
              "      <td>8960</td>\n",
              "      <td>4</td>\n",
              "      <td>4</td>\n",
              "      <td>4</td>\n",
              "      <td>yes</td>\n",
              "      <td>no</td>\n",
              "      <td>no</td>\n",
              "      <td>no</td>\n",
              "      <td>yes</td>\n",
              "      <td>3</td>\n",
              "      <td>furnished</td>\n",
              "    </tr>\n",
              "    <tr>\n",
              "      <th>2</th>\n",
              "      <td>12250000</td>\n",
              "      <td>9960</td>\n",
              "      <td>3</td>\n",
              "      <td>2</td>\n",
              "      <td>2</td>\n",
              "      <td>yes</td>\n",
              "      <td>no</td>\n",
              "      <td>yes</td>\n",
              "      <td>no</td>\n",
              "      <td>no</td>\n",
              "      <td>2</td>\n",
              "      <td>semi-furnished</td>\n",
              "    </tr>\n",
              "    <tr>\n",
              "      <th>3</th>\n",
              "      <td>12215000</td>\n",
              "      <td>7500</td>\n",
              "      <td>4</td>\n",
              "      <td>2</td>\n",
              "      <td>2</td>\n",
              "      <td>yes</td>\n",
              "      <td>no</td>\n",
              "      <td>yes</td>\n",
              "      <td>no</td>\n",
              "      <td>yes</td>\n",
              "      <td>3</td>\n",
              "      <td>furnished</td>\n",
              "    </tr>\n",
              "    <tr>\n",
              "      <th>4</th>\n",
              "      <td>11410000</td>\n",
              "      <td>7420</td>\n",
              "      <td>4</td>\n",
              "      <td>1</td>\n",
              "      <td>2</td>\n",
              "      <td>yes</td>\n",
              "      <td>yes</td>\n",
              "      <td>yes</td>\n",
              "      <td>no</td>\n",
              "      <td>yes</td>\n",
              "      <td>2</td>\n",
              "      <td>furnished</td>\n",
              "    </tr>\n",
              "    <tr>\n",
              "      <th>...</th>\n",
              "      <td>...</td>\n",
              "      <td>...</td>\n",
              "      <td>...</td>\n",
              "      <td>...</td>\n",
              "      <td>...</td>\n",
              "      <td>...</td>\n",
              "      <td>...</td>\n",
              "      <td>...</td>\n",
              "      <td>...</td>\n",
              "      <td>...</td>\n",
              "      <td>...</td>\n",
              "      <td>...</td>\n",
              "    </tr>\n",
              "    <tr>\n",
              "      <th>540</th>\n",
              "      <td>1820000</td>\n",
              "      <td>3000</td>\n",
              "      <td>2</td>\n",
              "      <td>1</td>\n",
              "      <td>1</td>\n",
              "      <td>yes</td>\n",
              "      <td>no</td>\n",
              "      <td>yes</td>\n",
              "      <td>no</td>\n",
              "      <td>no</td>\n",
              "      <td>2</td>\n",
              "      <td>unfurnished</td>\n",
              "    </tr>\n",
              "    <tr>\n",
              "      <th>541</th>\n",
              "      <td>1767150</td>\n",
              "      <td>2400</td>\n",
              "      <td>3</td>\n",
              "      <td>1</td>\n",
              "      <td>1</td>\n",
              "      <td>no</td>\n",
              "      <td>no</td>\n",
              "      <td>no</td>\n",
              "      <td>no</td>\n",
              "      <td>no</td>\n",
              "      <td>0</td>\n",
              "      <td>semi-furnished</td>\n",
              "    </tr>\n",
              "    <tr>\n",
              "      <th>542</th>\n",
              "      <td>1750000</td>\n",
              "      <td>3620</td>\n",
              "      <td>2</td>\n",
              "      <td>1</td>\n",
              "      <td>1</td>\n",
              "      <td>yes</td>\n",
              "      <td>no</td>\n",
              "      <td>no</td>\n",
              "      <td>no</td>\n",
              "      <td>no</td>\n",
              "      <td>0</td>\n",
              "      <td>unfurnished</td>\n",
              "    </tr>\n",
              "    <tr>\n",
              "      <th>543</th>\n",
              "      <td>1750000</td>\n",
              "      <td>2910</td>\n",
              "      <td>3</td>\n",
              "      <td>1</td>\n",
              "      <td>1</td>\n",
              "      <td>no</td>\n",
              "      <td>no</td>\n",
              "      <td>no</td>\n",
              "      <td>no</td>\n",
              "      <td>no</td>\n",
              "      <td>0</td>\n",
              "      <td>furnished</td>\n",
              "    </tr>\n",
              "    <tr>\n",
              "      <th>544</th>\n",
              "      <td>1750000</td>\n",
              "      <td>3850</td>\n",
              "      <td>3</td>\n",
              "      <td>1</td>\n",
              "      <td>2</td>\n",
              "      <td>yes</td>\n",
              "      <td>no</td>\n",
              "      <td>no</td>\n",
              "      <td>no</td>\n",
              "      <td>no</td>\n",
              "      <td>0</td>\n",
              "      <td>unfurnished</td>\n",
              "    </tr>\n",
              "  </tbody>\n",
              "</table>\n",
              "<p>541 rows × 12 columns</p>\n",
              "</div>"
            ],
            "text/plain": [
              "        price  area  bedrooms  bathrooms  stories mainroad guestroom basement  \\\n",
              "0    13300000  7420         4          2        3      yes        no       no   \n",
              "1    12250000  8960         4          4        4      yes        no       no   \n",
              "2    12250000  9960         3          2        2      yes        no      yes   \n",
              "3    12215000  7500         4          2        2      yes        no      yes   \n",
              "4    11410000  7420         4          1        2      yes       yes      yes   \n",
              "..        ...   ...       ...        ...      ...      ...       ...      ...   \n",
              "540   1820000  3000         2          1        1      yes        no      yes   \n",
              "541   1767150  2400         3          1        1       no        no       no   \n",
              "542   1750000  3620         2          1        1      yes        no       no   \n",
              "543   1750000  2910         3          1        1       no        no       no   \n",
              "544   1750000  3850         3          1        2      yes        no       no   \n",
              "\n",
              "    hotwaterheating airconditioning  parking furnishingstatus  \n",
              "0                no             yes        2        furnished  \n",
              "1                no             yes        3        furnished  \n",
              "2                no              no        2   semi-furnished  \n",
              "3                no             yes        3        furnished  \n",
              "4                no             yes        2        furnished  \n",
              "..              ...             ...      ...              ...  \n",
              "540              no              no        2      unfurnished  \n",
              "541              no              no        0   semi-furnished  \n",
              "542              no              no        0      unfurnished  \n",
              "543              no              no        0        furnished  \n",
              "544              no              no        0      unfurnished  \n",
              "\n",
              "[541 rows x 12 columns]"
            ]
          },
          "execution_count": 20,
          "metadata": {},
          "output_type": "execute_result"
        }
      ],
      "source": [
        "data"
      ]
    },
    {
      "cell_type": "markdown",
      "metadata": {
        "id": "2Zco_7G6e1uy"
      },
      "source": [
        "6. check for categorical columns and perform encoding"
      ]
    },
    {
      "cell_type": "code",
      "execution_count": null,
      "metadata": {
        "id": "caqmC83Ue1uy"
      },
      "outputs": [],
      "source": [
        "from sklearn.preprocessing import LabelEncoder"
      ]
    },
    {
      "cell_type": "code",
      "execution_count": null,
      "metadata": {
        "id": "6Q-hW2sbe1uy"
      },
      "outputs": [],
      "source": [
        "le = LabelEncoder()"
      ]
    },
    {
      "cell_type": "code",
      "execution_count": null,
      "metadata": {
        "id": "inc5X7tre1uz",
        "outputId": "0de65179-9feb-4c69-a045-43cf213d97b8"
      },
      "outputs": [
        {
          "name": "stderr",
          "output_type": "stream",
          "text": [
            "<ipython-input-23-a82b821baf85>:1: SettingWithCopyWarning: \n",
            "A value is trying to be set on a copy of a slice from a DataFrame.\n",
            "Try using .loc[row_indexer,col_indexer] = value instead\n",
            "\n",
            "See the caveats in the documentation: https://pandas.pydata.org/pandas-docs/stable/user_guide/indexing.html#returning-a-view-versus-a-copy\n",
            "  data['mainroad'] = le.fit_transform(data.mainroad)\n",
            "<ipython-input-23-a82b821baf85>:2: SettingWithCopyWarning: \n",
            "A value is trying to be set on a copy of a slice from a DataFrame.\n",
            "Try using .loc[row_indexer,col_indexer] = value instead\n",
            "\n",
            "See the caveats in the documentation: https://pandas.pydata.org/pandas-docs/stable/user_guide/indexing.html#returning-a-view-versus-a-copy\n",
            "  data['guestroom'] = le.fit_transform(data.guestroom)\n",
            "<ipython-input-23-a82b821baf85>:3: SettingWithCopyWarning: \n",
            "A value is trying to be set on a copy of a slice from a DataFrame.\n",
            "Try using .loc[row_indexer,col_indexer] = value instead\n",
            "\n",
            "See the caveats in the documentation: https://pandas.pydata.org/pandas-docs/stable/user_guide/indexing.html#returning-a-view-versus-a-copy\n",
            "  data['basement'] = le.fit_transform(data.basement)\n",
            "<ipython-input-23-a82b821baf85>:4: SettingWithCopyWarning: \n",
            "A value is trying to be set on a copy of a slice from a DataFrame.\n",
            "Try using .loc[row_indexer,col_indexer] = value instead\n",
            "\n",
            "See the caveats in the documentation: https://pandas.pydata.org/pandas-docs/stable/user_guide/indexing.html#returning-a-view-versus-a-copy\n",
            "  data['furnishingstatus'] = le.fit_transform(data.furnishingstatus)\n",
            "<ipython-input-23-a82b821baf85>:5: SettingWithCopyWarning: \n",
            "A value is trying to be set on a copy of a slice from a DataFrame.\n",
            "Try using .loc[row_indexer,col_indexer] = value instead\n",
            "\n",
            "See the caveats in the documentation: https://pandas.pydata.org/pandas-docs/stable/user_guide/indexing.html#returning-a-view-versus-a-copy\n",
            "  data['airconditioning'] = le.fit_transform(data.airconditioning)\n",
            "<ipython-input-23-a82b821baf85>:6: SettingWithCopyWarning: \n",
            "A value is trying to be set on a copy of a slice from a DataFrame.\n",
            "Try using .loc[row_indexer,col_indexer] = value instead\n",
            "\n",
            "See the caveats in the documentation: https://pandas.pydata.org/pandas-docs/stable/user_guide/indexing.html#returning-a-view-versus-a-copy\n",
            "  data['hotwaterheating'] = le.fit_transform(data.hotwaterheating)\n"
          ]
        }
      ],
      "source": [
        "data['mainroad'] = le.fit_transform(data.mainroad)\n",
        "data['guestroom'] = le.fit_transform(data.guestroom)\n",
        "data['basement'] = le.fit_transform(data.basement)\n",
        "data['furnishingstatus'] = le.fit_transform(data.furnishingstatus)\n",
        "data['airconditioning'] = le.fit_transform(data.airconditioning)\n",
        "data['hotwaterheating'] = le.fit_transform(data.hotwaterheating)"
      ]
    },
    {
      "cell_type": "code",
      "execution_count": null,
      "metadata": {
        "id": "_R4Qig6Ne1uz",
        "outputId": "91b15e08-e93c-41e7-ecde-807de12261e9"
      },
      "outputs": [
        {
          "data": {
            "text/html": [
              "<div>\n",
              "<style scoped>\n",
              "    .dataframe tbody tr th:only-of-type {\n",
              "        vertical-align: middle;\n",
              "    }\n",
              "\n",
              "    .dataframe tbody tr th {\n",
              "        vertical-align: top;\n",
              "    }\n",
              "\n",
              "    .dataframe thead th {\n",
              "        text-align: right;\n",
              "    }\n",
              "</style>\n",
              "<table border=\"1\" class=\"dataframe\">\n",
              "  <thead>\n",
              "    <tr style=\"text-align: right;\">\n",
              "      <th></th>\n",
              "      <th>price</th>\n",
              "      <th>area</th>\n",
              "      <th>bedrooms</th>\n",
              "      <th>bathrooms</th>\n",
              "      <th>stories</th>\n",
              "      <th>mainroad</th>\n",
              "      <th>guestroom</th>\n",
              "      <th>basement</th>\n",
              "      <th>hotwaterheating</th>\n",
              "      <th>airconditioning</th>\n",
              "      <th>parking</th>\n",
              "      <th>furnishingstatus</th>\n",
              "    </tr>\n",
              "  </thead>\n",
              "  <tbody>\n",
              "    <tr>\n",
              "      <th>0</th>\n",
              "      <td>13300000</td>\n",
              "      <td>7420</td>\n",
              "      <td>4</td>\n",
              "      <td>2</td>\n",
              "      <td>3</td>\n",
              "      <td>1</td>\n",
              "      <td>0</td>\n",
              "      <td>0</td>\n",
              "      <td>0</td>\n",
              "      <td>1</td>\n",
              "      <td>2</td>\n",
              "      <td>0</td>\n",
              "    </tr>\n",
              "    <tr>\n",
              "      <th>1</th>\n",
              "      <td>12250000</td>\n",
              "      <td>8960</td>\n",
              "      <td>4</td>\n",
              "      <td>4</td>\n",
              "      <td>4</td>\n",
              "      <td>1</td>\n",
              "      <td>0</td>\n",
              "      <td>0</td>\n",
              "      <td>0</td>\n",
              "      <td>1</td>\n",
              "      <td>3</td>\n",
              "      <td>0</td>\n",
              "    </tr>\n",
              "    <tr>\n",
              "      <th>2</th>\n",
              "      <td>12250000</td>\n",
              "      <td>9960</td>\n",
              "      <td>3</td>\n",
              "      <td>2</td>\n",
              "      <td>2</td>\n",
              "      <td>1</td>\n",
              "      <td>0</td>\n",
              "      <td>1</td>\n",
              "      <td>0</td>\n",
              "      <td>0</td>\n",
              "      <td>2</td>\n",
              "      <td>1</td>\n",
              "    </tr>\n",
              "    <tr>\n",
              "      <th>3</th>\n",
              "      <td>12215000</td>\n",
              "      <td>7500</td>\n",
              "      <td>4</td>\n",
              "      <td>2</td>\n",
              "      <td>2</td>\n",
              "      <td>1</td>\n",
              "      <td>0</td>\n",
              "      <td>1</td>\n",
              "      <td>0</td>\n",
              "      <td>1</td>\n",
              "      <td>3</td>\n",
              "      <td>0</td>\n",
              "    </tr>\n",
              "    <tr>\n",
              "      <th>4</th>\n",
              "      <td>11410000</td>\n",
              "      <td>7420</td>\n",
              "      <td>4</td>\n",
              "      <td>1</td>\n",
              "      <td>2</td>\n",
              "      <td>1</td>\n",
              "      <td>1</td>\n",
              "      <td>1</td>\n",
              "      <td>0</td>\n",
              "      <td>1</td>\n",
              "      <td>2</td>\n",
              "      <td>0</td>\n",
              "    </tr>\n",
              "    <tr>\n",
              "      <th>...</th>\n",
              "      <td>...</td>\n",
              "      <td>...</td>\n",
              "      <td>...</td>\n",
              "      <td>...</td>\n",
              "      <td>...</td>\n",
              "      <td>...</td>\n",
              "      <td>...</td>\n",
              "      <td>...</td>\n",
              "      <td>...</td>\n",
              "      <td>...</td>\n",
              "      <td>...</td>\n",
              "      <td>...</td>\n",
              "    </tr>\n",
              "    <tr>\n",
              "      <th>540</th>\n",
              "      <td>1820000</td>\n",
              "      <td>3000</td>\n",
              "      <td>2</td>\n",
              "      <td>1</td>\n",
              "      <td>1</td>\n",
              "      <td>1</td>\n",
              "      <td>0</td>\n",
              "      <td>1</td>\n",
              "      <td>0</td>\n",
              "      <td>0</td>\n",
              "      <td>2</td>\n",
              "      <td>2</td>\n",
              "    </tr>\n",
              "    <tr>\n",
              "      <th>541</th>\n",
              "      <td>1767150</td>\n",
              "      <td>2400</td>\n",
              "      <td>3</td>\n",
              "      <td>1</td>\n",
              "      <td>1</td>\n",
              "      <td>0</td>\n",
              "      <td>0</td>\n",
              "      <td>0</td>\n",
              "      <td>0</td>\n",
              "      <td>0</td>\n",
              "      <td>0</td>\n",
              "      <td>1</td>\n",
              "    </tr>\n",
              "    <tr>\n",
              "      <th>542</th>\n",
              "      <td>1750000</td>\n",
              "      <td>3620</td>\n",
              "      <td>2</td>\n",
              "      <td>1</td>\n",
              "      <td>1</td>\n",
              "      <td>1</td>\n",
              "      <td>0</td>\n",
              "      <td>0</td>\n",
              "      <td>0</td>\n",
              "      <td>0</td>\n",
              "      <td>0</td>\n",
              "      <td>2</td>\n",
              "    </tr>\n",
              "    <tr>\n",
              "      <th>543</th>\n",
              "      <td>1750000</td>\n",
              "      <td>2910</td>\n",
              "      <td>3</td>\n",
              "      <td>1</td>\n",
              "      <td>1</td>\n",
              "      <td>0</td>\n",
              "      <td>0</td>\n",
              "      <td>0</td>\n",
              "      <td>0</td>\n",
              "      <td>0</td>\n",
              "      <td>0</td>\n",
              "      <td>0</td>\n",
              "    </tr>\n",
              "    <tr>\n",
              "      <th>544</th>\n",
              "      <td>1750000</td>\n",
              "      <td>3850</td>\n",
              "      <td>3</td>\n",
              "      <td>1</td>\n",
              "      <td>2</td>\n",
              "      <td>1</td>\n",
              "      <td>0</td>\n",
              "      <td>0</td>\n",
              "      <td>0</td>\n",
              "      <td>0</td>\n",
              "      <td>0</td>\n",
              "      <td>2</td>\n",
              "    </tr>\n",
              "  </tbody>\n",
              "</table>\n",
              "<p>541 rows × 12 columns</p>\n",
              "</div>"
            ],
            "text/plain": [
              "        price  area  bedrooms  bathrooms  stories  mainroad  guestroom  \\\n",
              "0    13300000  7420         4          2        3         1          0   \n",
              "1    12250000  8960         4          4        4         1          0   \n",
              "2    12250000  9960         3          2        2         1          0   \n",
              "3    12215000  7500         4          2        2         1          0   \n",
              "4    11410000  7420         4          1        2         1          1   \n",
              "..        ...   ...       ...        ...      ...       ...        ...   \n",
              "540   1820000  3000         2          1        1         1          0   \n",
              "541   1767150  2400         3          1        1         0          0   \n",
              "542   1750000  3620         2          1        1         1          0   \n",
              "543   1750000  2910         3          1        1         0          0   \n",
              "544   1750000  3850         3          1        2         1          0   \n",
              "\n",
              "     basement  hotwaterheating  airconditioning  parking  furnishingstatus  \n",
              "0           0                0                1        2                 0  \n",
              "1           0                0                1        3                 0  \n",
              "2           1                0                0        2                 1  \n",
              "3           1                0                1        3                 0  \n",
              "4           1                0                1        2                 0  \n",
              "..        ...              ...              ...      ...               ...  \n",
              "540         1                0                0        2                 2  \n",
              "541         0                0                0        0                 1  \n",
              "542         0                0                0        0                 2  \n",
              "543         0                0                0        0                 0  \n",
              "544         0                0                0        0                 2  \n",
              "\n",
              "[541 rows x 12 columns]"
            ]
          },
          "execution_count": 24,
          "metadata": {},
          "output_type": "execute_result"
        }
      ],
      "source": [
        "data"
      ]
    },
    {
      "cell_type": "markdown",
      "metadata": {
        "id": "m1yFpD4_e1uz"
      },
      "source": [
        "8. split the data into dependent and independent variables"
      ]
    },
    {
      "cell_type": "code",
      "execution_count": null,
      "metadata": {
        "id": "vnj2i1HIe1uz"
      },
      "outputs": [],
      "source": [
        "x = data.drop(columns = 'price')\n",
        "y = data['price']"
      ]
    },
    {
      "cell_type": "code",
      "execution_count": null,
      "metadata": {
        "id": "3OqctkxOe1u0",
        "outputId": "ab817561-c4e1-4331-86ce-4e1d088c4abf"
      },
      "outputs": [
        {
          "data": {
            "text/html": [
              "<div>\n",
              "<style scoped>\n",
              "    .dataframe tbody tr th:only-of-type {\n",
              "        vertical-align: middle;\n",
              "    }\n",
              "\n",
              "    .dataframe tbody tr th {\n",
              "        vertical-align: top;\n",
              "    }\n",
              "\n",
              "    .dataframe thead th {\n",
              "        text-align: right;\n",
              "    }\n",
              "</style>\n",
              "<table border=\"1\" class=\"dataframe\">\n",
              "  <thead>\n",
              "    <tr style=\"text-align: right;\">\n",
              "      <th></th>\n",
              "      <th>area</th>\n",
              "      <th>bedrooms</th>\n",
              "      <th>bathrooms</th>\n",
              "      <th>stories</th>\n",
              "      <th>mainroad</th>\n",
              "      <th>guestroom</th>\n",
              "      <th>basement</th>\n",
              "      <th>hotwaterheating</th>\n",
              "      <th>airconditioning</th>\n",
              "      <th>parking</th>\n",
              "      <th>furnishingstatus</th>\n",
              "    </tr>\n",
              "  </thead>\n",
              "  <tbody>\n",
              "    <tr>\n",
              "      <th>0</th>\n",
              "      <td>7420</td>\n",
              "      <td>4</td>\n",
              "      <td>2</td>\n",
              "      <td>3</td>\n",
              "      <td>1</td>\n",
              "      <td>0</td>\n",
              "      <td>0</td>\n",
              "      <td>0</td>\n",
              "      <td>1</td>\n",
              "      <td>2</td>\n",
              "      <td>0</td>\n",
              "    </tr>\n",
              "    <tr>\n",
              "      <th>1</th>\n",
              "      <td>8960</td>\n",
              "      <td>4</td>\n",
              "      <td>4</td>\n",
              "      <td>4</td>\n",
              "      <td>1</td>\n",
              "      <td>0</td>\n",
              "      <td>0</td>\n",
              "      <td>0</td>\n",
              "      <td>1</td>\n",
              "      <td>3</td>\n",
              "      <td>0</td>\n",
              "    </tr>\n",
              "    <tr>\n",
              "      <th>2</th>\n",
              "      <td>9960</td>\n",
              "      <td>3</td>\n",
              "      <td>2</td>\n",
              "      <td>2</td>\n",
              "      <td>1</td>\n",
              "      <td>0</td>\n",
              "      <td>1</td>\n",
              "      <td>0</td>\n",
              "      <td>0</td>\n",
              "      <td>2</td>\n",
              "      <td>1</td>\n",
              "    </tr>\n",
              "    <tr>\n",
              "      <th>3</th>\n",
              "      <td>7500</td>\n",
              "      <td>4</td>\n",
              "      <td>2</td>\n",
              "      <td>2</td>\n",
              "      <td>1</td>\n",
              "      <td>0</td>\n",
              "      <td>1</td>\n",
              "      <td>0</td>\n",
              "      <td>1</td>\n",
              "      <td>3</td>\n",
              "      <td>0</td>\n",
              "    </tr>\n",
              "    <tr>\n",
              "      <th>4</th>\n",
              "      <td>7420</td>\n",
              "      <td>4</td>\n",
              "      <td>1</td>\n",
              "      <td>2</td>\n",
              "      <td>1</td>\n",
              "      <td>1</td>\n",
              "      <td>1</td>\n",
              "      <td>0</td>\n",
              "      <td>1</td>\n",
              "      <td>2</td>\n",
              "      <td>0</td>\n",
              "    </tr>\n",
              "    <tr>\n",
              "      <th>...</th>\n",
              "      <td>...</td>\n",
              "      <td>...</td>\n",
              "      <td>...</td>\n",
              "      <td>...</td>\n",
              "      <td>...</td>\n",
              "      <td>...</td>\n",
              "      <td>...</td>\n",
              "      <td>...</td>\n",
              "      <td>...</td>\n",
              "      <td>...</td>\n",
              "      <td>...</td>\n",
              "    </tr>\n",
              "    <tr>\n",
              "      <th>540</th>\n",
              "      <td>3000</td>\n",
              "      <td>2</td>\n",
              "      <td>1</td>\n",
              "      <td>1</td>\n",
              "      <td>1</td>\n",
              "      <td>0</td>\n",
              "      <td>1</td>\n",
              "      <td>0</td>\n",
              "      <td>0</td>\n",
              "      <td>2</td>\n",
              "      <td>2</td>\n",
              "    </tr>\n",
              "    <tr>\n",
              "      <th>541</th>\n",
              "      <td>2400</td>\n",
              "      <td>3</td>\n",
              "      <td>1</td>\n",
              "      <td>1</td>\n",
              "      <td>0</td>\n",
              "      <td>0</td>\n",
              "      <td>0</td>\n",
              "      <td>0</td>\n",
              "      <td>0</td>\n",
              "      <td>0</td>\n",
              "      <td>1</td>\n",
              "    </tr>\n",
              "    <tr>\n",
              "      <th>542</th>\n",
              "      <td>3620</td>\n",
              "      <td>2</td>\n",
              "      <td>1</td>\n",
              "      <td>1</td>\n",
              "      <td>1</td>\n",
              "      <td>0</td>\n",
              "      <td>0</td>\n",
              "      <td>0</td>\n",
              "      <td>0</td>\n",
              "      <td>0</td>\n",
              "      <td>2</td>\n",
              "    </tr>\n",
              "    <tr>\n",
              "      <th>543</th>\n",
              "      <td>2910</td>\n",
              "      <td>3</td>\n",
              "      <td>1</td>\n",
              "      <td>1</td>\n",
              "      <td>0</td>\n",
              "      <td>0</td>\n",
              "      <td>0</td>\n",
              "      <td>0</td>\n",
              "      <td>0</td>\n",
              "      <td>0</td>\n",
              "      <td>0</td>\n",
              "    </tr>\n",
              "    <tr>\n",
              "      <th>544</th>\n",
              "      <td>3850</td>\n",
              "      <td>3</td>\n",
              "      <td>1</td>\n",
              "      <td>2</td>\n",
              "      <td>1</td>\n",
              "      <td>0</td>\n",
              "      <td>0</td>\n",
              "      <td>0</td>\n",
              "      <td>0</td>\n",
              "      <td>0</td>\n",
              "      <td>2</td>\n",
              "    </tr>\n",
              "  </tbody>\n",
              "</table>\n",
              "<p>541 rows × 11 columns</p>\n",
              "</div>"
            ],
            "text/plain": [
              "     area  bedrooms  bathrooms  stories  mainroad  guestroom  basement  \\\n",
              "0    7420         4          2        3         1          0         0   \n",
              "1    8960         4          4        4         1          0         0   \n",
              "2    9960         3          2        2         1          0         1   \n",
              "3    7500         4          2        2         1          0         1   \n",
              "4    7420         4          1        2         1          1         1   \n",
              "..    ...       ...        ...      ...       ...        ...       ...   \n",
              "540  3000         2          1        1         1          0         1   \n",
              "541  2400         3          1        1         0          0         0   \n",
              "542  3620         2          1        1         1          0         0   \n",
              "543  2910         3          1        1         0          0         0   \n",
              "544  3850         3          1        2         1          0         0   \n",
              "\n",
              "     hotwaterheating  airconditioning  parking  furnishingstatus  \n",
              "0                  0                1        2                 0  \n",
              "1                  0                1        3                 0  \n",
              "2                  0                0        2                 1  \n",
              "3                  0                1        3                 0  \n",
              "4                  0                1        2                 0  \n",
              "..               ...              ...      ...               ...  \n",
              "540                0                0        2                 2  \n",
              "541                0                0        0                 1  \n",
              "542                0                0        0                 2  \n",
              "543                0                0        0                 0  \n",
              "544                0                0        0                 2  \n",
              "\n",
              "[541 rows x 11 columns]"
            ]
          },
          "execution_count": 26,
          "metadata": {},
          "output_type": "execute_result"
        }
      ],
      "source": [
        "x"
      ]
    },
    {
      "cell_type": "code",
      "execution_count": null,
      "metadata": {
        "id": "JhJ4131-e1vB",
        "outputId": "daefe158-0496-4321-ee99-a92c436b02dc"
      },
      "outputs": [
        {
          "data": {
            "text/plain": [
              "0      13300000\n",
              "1      12250000\n",
              "2      12250000\n",
              "3      12215000\n",
              "4      11410000\n",
              "         ...   \n",
              "540     1820000\n",
              "541     1767150\n",
              "542     1750000\n",
              "543     1750000\n",
              "544     1750000\n",
              "Name: price, Length: 541, dtype: int64"
            ]
          },
          "execution_count": 27,
          "metadata": {},
          "output_type": "execute_result"
        }
      ],
      "source": [
        "y"
      ]
    },
    {
      "cell_type": "markdown",
      "metadata": {
        "id": "eHB5lA4ke1vC"
      },
      "source": [
        "9. scale the independent varaible"
      ]
    },
    {
      "cell_type": "code",
      "execution_count": null,
      "metadata": {
        "id": "F8KnzU8We1vC"
      },
      "outputs": [],
      "source": [
        "from sklearn.preprocessing import MinMaxScaler"
      ]
    },
    {
      "cell_type": "code",
      "execution_count": null,
      "metadata": {
        "id": "XLk38ywXe1vC"
      },
      "outputs": [],
      "source": [
        "scale = MinMaxScaler()"
      ]
    },
    {
      "cell_type": "code",
      "execution_count": null,
      "metadata": {
        "id": "EuAWelX_e1vD",
        "outputId": "3ec1cb21-2a07-4a1e-84a7-b55d4a2218b4"
      },
      "outputs": [
        {
          "data": {
            "text/plain": [
              "array([[0.51089074, 0.6       , 0.33333333, ..., 1.        , 0.66666667,\n",
              "        0.        ],\n",
              "       [0.64724633, 0.6       , 1.        , ..., 1.        , 1.        ,\n",
              "        0.        ],\n",
              "       [0.73578891, 0.4       , 0.33333333, ..., 0.        , 0.66666667,\n",
              "        0.5       ],\n",
              "       ...,\n",
              "       [0.1744289 , 0.2       , 0.        , ..., 0.        , 0.        ,\n",
              "        1.        ],\n",
              "       [0.11156366, 0.4       , 0.        , ..., 0.        , 0.        ,\n",
              "        0.        ],\n",
              "       [0.1947937 , 0.4       , 0.        , ..., 0.        , 0.        ,\n",
              "        1.        ]])"
            ]
          },
          "execution_count": 30,
          "metadata": {},
          "output_type": "execute_result"
        }
      ],
      "source": [
        "x_scaled = scale.fit_transform(x)\n",
        "x_scaled"
      ]
    },
    {
      "cell_type": "code",
      "execution_count": null,
      "metadata": {
        "id": "QAOVx2-xe1vD",
        "outputId": "97e3bf31-9087-42da-91a9-846916029834"
      },
      "outputs": [
        {
          "data": {
            "text/html": [
              "<div>\n",
              "<style scoped>\n",
              "    .dataframe tbody tr th:only-of-type {\n",
              "        vertical-align: middle;\n",
              "    }\n",
              "\n",
              "    .dataframe tbody tr th {\n",
              "        vertical-align: top;\n",
              "    }\n",
              "\n",
              "    .dataframe thead th {\n",
              "        text-align: right;\n",
              "    }\n",
              "</style>\n",
              "<table border=\"1\" class=\"dataframe\">\n",
              "  <thead>\n",
              "    <tr style=\"text-align: right;\">\n",
              "      <th></th>\n",
              "      <th>area</th>\n",
              "      <th>bedrooms</th>\n",
              "      <th>bathrooms</th>\n",
              "      <th>stories</th>\n",
              "      <th>mainroad</th>\n",
              "      <th>guestroom</th>\n",
              "      <th>basement</th>\n",
              "      <th>hotwaterheating</th>\n",
              "      <th>airconditioning</th>\n",
              "      <th>parking</th>\n",
              "      <th>furnishingstatus</th>\n",
              "    </tr>\n",
              "  </thead>\n",
              "  <tbody>\n",
              "    <tr>\n",
              "      <th>0</th>\n",
              "      <td>0.510891</td>\n",
              "      <td>0.6</td>\n",
              "      <td>0.333333</td>\n",
              "      <td>0.666667</td>\n",
              "      <td>1.0</td>\n",
              "      <td>0.0</td>\n",
              "      <td>0.0</td>\n",
              "      <td>0.0</td>\n",
              "      <td>1.0</td>\n",
              "      <td>0.666667</td>\n",
              "      <td>0.0</td>\n",
              "    </tr>\n",
              "    <tr>\n",
              "      <th>1</th>\n",
              "      <td>0.647246</td>\n",
              "      <td>0.6</td>\n",
              "      <td>1.000000</td>\n",
              "      <td>1.000000</td>\n",
              "      <td>1.0</td>\n",
              "      <td>0.0</td>\n",
              "      <td>0.0</td>\n",
              "      <td>0.0</td>\n",
              "      <td>1.0</td>\n",
              "      <td>1.000000</td>\n",
              "      <td>0.0</td>\n",
              "    </tr>\n",
              "    <tr>\n",
              "      <th>2</th>\n",
              "      <td>0.735789</td>\n",
              "      <td>0.4</td>\n",
              "      <td>0.333333</td>\n",
              "      <td>0.333333</td>\n",
              "      <td>1.0</td>\n",
              "      <td>0.0</td>\n",
              "      <td>1.0</td>\n",
              "      <td>0.0</td>\n",
              "      <td>0.0</td>\n",
              "      <td>0.666667</td>\n",
              "      <td>0.5</td>\n",
              "    </tr>\n",
              "    <tr>\n",
              "      <th>3</th>\n",
              "      <td>0.517974</td>\n",
              "      <td>0.6</td>\n",
              "      <td>0.333333</td>\n",
              "      <td>0.333333</td>\n",
              "      <td>1.0</td>\n",
              "      <td>0.0</td>\n",
              "      <td>1.0</td>\n",
              "      <td>0.0</td>\n",
              "      <td>1.0</td>\n",
              "      <td>1.000000</td>\n",
              "      <td>0.0</td>\n",
              "    </tr>\n",
              "    <tr>\n",
              "      <th>4</th>\n",
              "      <td>0.510891</td>\n",
              "      <td>0.6</td>\n",
              "      <td>0.000000</td>\n",
              "      <td>0.333333</td>\n",
              "      <td>1.0</td>\n",
              "      <td>1.0</td>\n",
              "      <td>1.0</td>\n",
              "      <td>0.0</td>\n",
              "      <td>1.0</td>\n",
              "      <td>0.666667</td>\n",
              "      <td>0.0</td>\n",
              "    </tr>\n",
              "    <tr>\n",
              "      <th>...</th>\n",
              "      <td>...</td>\n",
              "      <td>...</td>\n",
              "      <td>...</td>\n",
              "      <td>...</td>\n",
              "      <td>...</td>\n",
              "      <td>...</td>\n",
              "      <td>...</td>\n",
              "      <td>...</td>\n",
              "      <td>...</td>\n",
              "      <td>...</td>\n",
              "      <td>...</td>\n",
              "    </tr>\n",
              "    <tr>\n",
              "      <th>536</th>\n",
              "      <td>0.119532</td>\n",
              "      <td>0.2</td>\n",
              "      <td>0.000000</td>\n",
              "      <td>0.000000</td>\n",
              "      <td>1.0</td>\n",
              "      <td>0.0</td>\n",
              "      <td>1.0</td>\n",
              "      <td>0.0</td>\n",
              "      <td>0.0</td>\n",
              "      <td>0.666667</td>\n",
              "      <td>1.0</td>\n",
              "    </tr>\n",
              "    <tr>\n",
              "      <th>537</th>\n",
              "      <td>0.066407</td>\n",
              "      <td>0.4</td>\n",
              "      <td>0.000000</td>\n",
              "      <td>0.000000</td>\n",
              "      <td>0.0</td>\n",
              "      <td>0.0</td>\n",
              "      <td>0.0</td>\n",
              "      <td>0.0</td>\n",
              "      <td>0.0</td>\n",
              "      <td>0.000000</td>\n",
              "      <td>0.5</td>\n",
              "    </tr>\n",
              "    <tr>\n",
              "      <th>538</th>\n",
              "      <td>0.174429</td>\n",
              "      <td>0.2</td>\n",
              "      <td>0.000000</td>\n",
              "      <td>0.000000</td>\n",
              "      <td>1.0</td>\n",
              "      <td>0.0</td>\n",
              "      <td>0.0</td>\n",
              "      <td>0.0</td>\n",
              "      <td>0.0</td>\n",
              "      <td>0.000000</td>\n",
              "      <td>1.0</td>\n",
              "    </tr>\n",
              "    <tr>\n",
              "      <th>539</th>\n",
              "      <td>0.111564</td>\n",
              "      <td>0.4</td>\n",
              "      <td>0.000000</td>\n",
              "      <td>0.000000</td>\n",
              "      <td>0.0</td>\n",
              "      <td>0.0</td>\n",
              "      <td>0.0</td>\n",
              "      <td>0.0</td>\n",
              "      <td>0.0</td>\n",
              "      <td>0.000000</td>\n",
              "      <td>0.0</td>\n",
              "    </tr>\n",
              "    <tr>\n",
              "      <th>540</th>\n",
              "      <td>0.194794</td>\n",
              "      <td>0.4</td>\n",
              "      <td>0.000000</td>\n",
              "      <td>0.333333</td>\n",
              "      <td>1.0</td>\n",
              "      <td>0.0</td>\n",
              "      <td>0.0</td>\n",
              "      <td>0.0</td>\n",
              "      <td>0.0</td>\n",
              "      <td>0.000000</td>\n",
              "      <td>1.0</td>\n",
              "    </tr>\n",
              "  </tbody>\n",
              "</table>\n",
              "<p>541 rows × 11 columns</p>\n",
              "</div>"
            ],
            "text/plain": [
              "         area  bedrooms  bathrooms   stories  mainroad  guestroom  basement  \\\n",
              "0    0.510891       0.6   0.333333  0.666667       1.0        0.0       0.0   \n",
              "1    0.647246       0.6   1.000000  1.000000       1.0        0.0       0.0   \n",
              "2    0.735789       0.4   0.333333  0.333333       1.0        0.0       1.0   \n",
              "3    0.517974       0.6   0.333333  0.333333       1.0        0.0       1.0   \n",
              "4    0.510891       0.6   0.000000  0.333333       1.0        1.0       1.0   \n",
              "..        ...       ...        ...       ...       ...        ...       ...   \n",
              "536  0.119532       0.2   0.000000  0.000000       1.0        0.0       1.0   \n",
              "537  0.066407       0.4   0.000000  0.000000       0.0        0.0       0.0   \n",
              "538  0.174429       0.2   0.000000  0.000000       1.0        0.0       0.0   \n",
              "539  0.111564       0.4   0.000000  0.000000       0.0        0.0       0.0   \n",
              "540  0.194794       0.4   0.000000  0.333333       1.0        0.0       0.0   \n",
              "\n",
              "     hotwaterheating  airconditioning   parking  furnishingstatus  \n",
              "0                0.0              1.0  0.666667               0.0  \n",
              "1                0.0              1.0  1.000000               0.0  \n",
              "2                0.0              0.0  0.666667               0.5  \n",
              "3                0.0              1.0  1.000000               0.0  \n",
              "4                0.0              1.0  0.666667               0.0  \n",
              "..               ...              ...       ...               ...  \n",
              "536              0.0              0.0  0.666667               1.0  \n",
              "537              0.0              0.0  0.000000               0.5  \n",
              "538              0.0              0.0  0.000000               1.0  \n",
              "539              0.0              0.0  0.000000               0.0  \n",
              "540              0.0              0.0  0.000000               1.0  \n",
              "\n",
              "[541 rows x 11 columns]"
            ]
          },
          "execution_count": 31,
          "metadata": {},
          "output_type": "execute_result"
        }
      ],
      "source": [
        "X = pd.DataFrame(x_scaled,columns = x.columns)\n",
        "X"
      ]
    },
    {
      "cell_type": "markdown",
      "metadata": {
        "id": "Ym-Tclqce1vE"
      },
      "source": [
        "10. split the data into testing and training"
      ]
    },
    {
      "cell_type": "code",
      "execution_count": null,
      "metadata": {
        "id": "U_TWhHUge1vE"
      },
      "outputs": [],
      "source": [
        "from sklearn.model_selection import train_test_split"
      ]
    },
    {
      "cell_type": "code",
      "execution_count": null,
      "metadata": {
        "id": "wXWM_lc4e1vE"
      },
      "outputs": [],
      "source": [
        "x_train,x_test,y_train,y_test = train_test_split(X,y,test_size =0.2,random_state = 0)"
      ]
    },
    {
      "cell_type": "markdown",
      "metadata": {
        "id": "t43_LqkHe1vE"
      },
      "source": [
        "11. build the model"
      ]
    },
    {
      "cell_type": "code",
      "execution_count": null,
      "metadata": {
        "id": "zCTZdBnGe1vF"
      },
      "outputs": [],
      "source": [
        "from sklearn.linear_model import LogisticRegression\n",
        "from sklearn.tree import DecisionTreeClassifier\n",
        "from sklearn.neighbors import KNeighborsClassifier\n",
        "from sklearn.linear_model import LinearRegression"
      ]
    },
    {
      "cell_type": "code",
      "execution_count": null,
      "metadata": {
        "id": "_KYUF7aHe1vF"
      },
      "outputs": [],
      "source": [
        "log = LogisticRegression()\n",
        "df=DecisionTreeClassifier(criterion='entropy',random_state=0)\n",
        "knn=KNeighborsClassifier()\n",
        "lr=LinearRegression()"
      ]
    },
    {
      "cell_type": "markdown",
      "metadata": {
        "id": "gdQH0Oc2e1vF"
      },
      "source": [
        "12. train the model"
      ]
    },
    {
      "cell_type": "code",
      "execution_count": null,
      "metadata": {
        "id": "ZpzJwiote1vG",
        "outputId": "7a834900-9233-452b-af08-86e383729906"
      },
      "outputs": [
        {
          "data": {
            "text/plain": [
              "LinearRegression()"
            ]
          },
          "execution_count": 36,
          "metadata": {},
          "output_type": "execute_result"
        }
      ],
      "source": [
        "log.fit(x_train,y_train)\n",
        "df.fit(x_train,y_train)\n",
        "knn.fit(x_train,y_train)\n",
        "lr.fit(x_train,y_train)"
      ]
    },
    {
      "cell_type": "markdown",
      "metadata": {
        "id": "5SQa6X73e1vG"
      },
      "source": [
        "13. test the model"
      ]
    },
    {
      "cell_type": "code",
      "execution_count": null,
      "metadata": {
        "id": "esRPaqGie1vG"
      },
      "outputs": [],
      "source": [
        "pred1 = lr.predict(x_test)\n",
        "pred2 = log.predict(x_test)\n",
        "pred3 = knn.predict(x_test)\n",
        "pred4 = df.predict(x_test)"
      ]
    },
    {
      "cell_type": "code",
      "execution_count": null,
      "metadata": {
        "id": "pPVW3OmEe1vH",
        "outputId": "5334eae2-e9ce-4f76-ba59-39745fadce94"
      },
      "outputs": [
        {
          "data": {
            "text/plain": [
              "74     6650000\n",
              "396    3500000\n",
              "382    3570000\n",
              "369    3675000\n",
              "144    5600000\n",
              "        ...   \n",
              "303    4200000\n",
              "233    4620000\n",
              "541    1767150\n",
              "500    2660000\n",
              "12     9310000\n",
              "Name: price, Length: 109, dtype: int64"
            ]
          },
          "execution_count": 38,
          "metadata": {},
          "output_type": "execute_result"
        }
      ],
      "source": [
        "y_test"
      ]
    },
    {
      "cell_type": "markdown",
      "metadata": {
        "id": "bcxRFiaNe1vH"
      },
      "source": [
        "14. measure the performance using the metrics"
      ]
    },
    {
      "cell_type": "code",
      "execution_count": null,
      "metadata": {
        "id": "iRIoALzKe1vI"
      },
      "outputs": [],
      "source": [
        "from sklearn.metrics import accuracy_score,classification_report,confusion_matrix\n",
        "from sklearn.metrics import r2_score"
      ]
    },
    {
      "cell_type": "code",
      "execution_count": null,
      "metadata": {
        "id": "kDIk9v6fe1vI",
        "outputId": "b6c28030-feee-4ab2-cfbd-702281b1cf19"
      },
      "outputs": [
        {
          "name": "stdout",
          "output_type": "stream",
          "text": [
            "0.009174311926605505\n",
            "0.0\n",
            "0.027522935779816515\n"
          ]
        }
      ],
      "source": [
        "print(accuracy_score(y_test,pred2))\n",
        "print(accuracy_score(y_test,pred3))\n",
        "print(accuracy_score(y_test,pred4))"
      ]
    },
    {
      "cell_type": "code",
      "execution_count": null,
      "metadata": {
        "id": "fBVugvWke1vJ",
        "outputId": "7a5f8a7c-2865-4bff-db3c-ef53f57cdcc8"
      },
      "outputs": [
        {
          "name": "stdout",
          "output_type": "stream",
          "text": [
            "0.6070770253224096\n",
            "-0.8988004647878198\n",
            "-1.3362278521896807\n",
            "-0.12389881530905966\n"
          ]
        }
      ],
      "source": [
        "acc1=r2_score(pred1,y_test)\n",
        "print(acc1)\n",
        "acc2=r2_score(pred2,y_test)\n",
        "print(acc2)\n",
        "acc3=r2_score(pred3,y_test)\n",
        "print(acc3)\n",
        "acc4=r2_score(pred4,y_test)\n",
        "print(acc4)"
      ]
    },
    {
      "cell_type": "code",
      "execution_count": null,
      "metadata": {
        "id": "7gVg3HYOe1vK",
        "outputId": "85c1d29d-e0c2-4f3e-8585-f82014400aea"
      },
      "outputs": [
        {
          "name": "stdout",
          "output_type": "stream",
          "text": [
            "[[0 0 0 ... 0 0 0]\n",
            " [0 0 0 ... 0 0 0]\n",
            " [0 0 0 ... 0 0 0]\n",
            " ...\n",
            " [0 0 0 ... 0 0 0]\n",
            " [0 0 0 ... 0 0 0]\n",
            " [0 0 0 ... 0 0 0]]\n",
            "[[0 0 0 ... 0 0 0]\n",
            " [0 0 0 ... 0 0 0]\n",
            " [0 0 0 ... 0 0 0]\n",
            " ...\n",
            " [0 0 0 ... 0 0 0]\n",
            " [0 0 0 ... 0 0 0]\n",
            " [0 0 0 ... 0 0 0]]\n",
            "[[0 0 0 ... 0 0 0]\n",
            " [0 0 0 ... 0 0 0]\n",
            " [0 0 0 ... 0 0 0]\n",
            " ...\n",
            " [0 0 0 ... 0 0 0]\n",
            " [0 0 0 ... 0 0 0]\n",
            " [0 0 0 ... 0 0 0]]\n"
          ]
        }
      ],
      "source": [
        "print(confusion_matrix(y_test,pred2))\n",
        "print(confusion_matrix(y_test,pred3))\n",
        "print(confusion_matrix(y_test,pred4))"
      ]
    },
    {
      "cell_type": "code",
      "execution_count": null,
      "metadata": {
        "id": "rI39kWaBe1vK",
        "outputId": "f6db4af7-dc56-481f-c291-f09e9e597472"
      },
      "outputs": [
        {
          "name": "stdout",
          "output_type": "stream",
          "text": [
            "              precision    recall  f1-score   support\n",
            "\n",
            "     1767150       0.00      0.00      0.00         1\n",
            "     1855000       0.00      0.00      0.00         1\n",
            "     2310000       0.00      0.00      0.00         1\n",
            "     2450000       0.00      0.00      0.00         2\n",
            "     2520000       0.00      0.00      0.00         2\n",
            "     2590000       0.00      0.00      0.00         1\n",
            "     2660000       0.00      0.00      0.00         4\n",
            "     2870000       0.00      0.00      0.00         1\n",
            "     2940000       0.00      0.00      0.00         2\n",
            "     3003000       0.00      0.00      0.00         1\n",
            "     3010000       0.00      0.00      0.00         2\n",
            "     3087000       0.00      0.00      0.00         1\n",
            "     3115000       0.00      0.00      0.00         1\n",
            "     3150000       0.00      0.00      0.00         2\n",
            "     3290000       0.00      0.00      0.00         4\n",
            "     3325000       0.00      0.00      0.00         1\n",
            "     3353000       0.00      0.00      0.00         1\n",
            "     3360000       0.00      0.00      0.00         2\n",
            "     3430000       0.00      0.00      0.00         2\n",
            "     3500000       0.02      1.00      0.04         1\n",
            "     3570000       0.00      0.00      0.00         3\n",
            "     3633000       0.00      0.00      0.00         1\n",
            "     3640000       0.00      0.00      0.00         1\n",
            "     3675000       0.00      0.00      0.00         1\n",
            "     3710000       0.00      0.00      0.00         1\n",
            "     3745000       0.00      0.00      0.00         1\n",
            "     3780000       0.00      0.00      0.00         2\n",
            "     3836000       0.00      0.00      0.00         1\n",
            "     3850000       0.00      0.00      0.00         2\n",
            "     3920000       0.00      0.00      0.00         1\n",
            "     3990000       0.00      0.00      0.00         1\n",
            "     4007500       0.00      0.00      0.00         1\n",
            "     4060000       0.00      0.00      0.00         1\n",
            "     4095000       0.00      0.00      0.00         2\n",
            "     4193000       0.00      0.00      0.00         1\n",
            "     4200000       0.00      0.00      0.00         5\n",
            "     4305000       0.00      0.00      0.00         1\n",
            "     4319000       0.00      0.00      0.00         1\n",
            "     4340000       0.00      0.00      0.00         1\n",
            "     4403000       0.00      0.00      0.00         2\n",
            "     4480000       0.00      0.00      0.00         1\n",
            "     4515000       0.00      0.00      0.00         1\n",
            "     4550000       0.00      0.00      0.00         2\n",
            "     4620000       0.00      0.00      0.00         1\n",
            "     4690000       0.00      0.00      0.00         1\n",
            "     4830000       0.00      0.00      0.00         2\n",
            "     4865000       0.00      0.00      0.00         1\n",
            "     4893000       0.00      0.00      0.00         1\n",
            "     4900000       0.00      0.00      0.00         0\n",
            "     5005000       0.00      0.00      0.00         1\n",
            "     5040000       0.00      0.00      0.00         1\n",
            "     5145000       0.00      0.00      0.00         1\n",
            "     5215000       0.00      0.00      0.00         1\n",
            "     5250000       0.00      0.00      0.00         1\n",
            "     5320000       0.00      0.00      0.00         1\n",
            "     5460000       0.00      0.00      0.00         2\n",
            "     5495000       0.00      0.00      0.00         1\n",
            "     5600000       0.00      0.00      0.00         2\n",
            "     5740000       0.00      0.00      0.00         2\n",
            "     5866000       0.00      0.00      0.00         1\n",
            "     5950000       0.00      0.00      0.00         1\n",
            "     6090000       0.00      0.00      0.00         2\n",
            "     6160000       0.00      0.00      0.00         2\n",
            "     6195000       0.00      0.00      0.00         0\n",
            "     6265000       0.00      0.00      0.00         1\n",
            "     6300000       0.00      0.00      0.00         1\n",
            "     6475000       0.00      0.00      0.00         1\n",
            "     6615000       0.00      0.00      0.00         1\n",
            "     6650000       0.00      0.00      0.00         3\n",
            "     6790000       0.00      0.00      0.00         1\n",
            "     7350000       0.00      0.00      0.00         0\n",
            "     7455000       0.00      0.00      0.00         1\n",
            "     7490000       0.00      0.00      0.00         1\n",
            "     7910000       0.00      0.00      0.00         1\n",
            "     8400000       0.00      0.00      0.00         0\n",
            "     8645000       0.00      0.00      0.00         1\n",
            "     8855000       0.00      0.00      0.00         1\n",
            "     8960000       0.00      0.00      0.00         1\n",
            "     9240000       0.00      0.00      0.00         1\n",
            "     9310000       0.00      0.00      0.00         1\n",
            "    12250000       0.00      0.00      0.00         1\n",
            "\n",
            "    accuracy                           0.01       109\n",
            "   macro avg       0.00      0.01      0.00       109\n",
            "weighted avg       0.00      0.01      0.00       109\n",
            "\n",
            "              precision    recall  f1-score   support\n",
            "\n",
            "     1750000       0.00      0.00      0.00       0.0\n",
            "     1767150       0.00      0.00      0.00       1.0\n",
            "     1855000       0.00      0.00      0.00       1.0\n",
            "     1890000       0.00      0.00      0.00       0.0\n",
            "     1960000       0.00      0.00      0.00       0.0\n",
            "     2100000       0.00      0.00      0.00       0.0\n",
            "     2135000       0.00      0.00      0.00       0.0\n",
            "     2233000       0.00      0.00      0.00       0.0\n",
            "     2275000       0.00      0.00      0.00       0.0\n",
            "     2310000       0.00      0.00      0.00       1.0\n",
            "     2380000       0.00      0.00      0.00       0.0\n",
            "     2408000       0.00      0.00      0.00       0.0\n",
            "     2450000       0.00      0.00      0.00       2.0\n",
            "     2485000       0.00      0.00      0.00       0.0\n",
            "     2520000       0.00      0.00      0.00       2.0\n",
            "     2590000       0.00      0.00      0.00       1.0\n",
            "     2660000       0.00      0.00      0.00       4.0\n",
            "     2695000       0.00      0.00      0.00       0.0\n",
            "     2730000       0.00      0.00      0.00       0.0\n",
            "     2870000       0.00      0.00      0.00       1.0\n",
            "     2940000       0.00      0.00      0.00       2.0\n",
            "     2961000       0.00      0.00      0.00       0.0\n",
            "     3003000       0.00      0.00      0.00       1.0\n",
            "     3010000       0.00      0.00      0.00       2.0\n",
            "     3080000       0.00      0.00      0.00       0.0\n",
            "     3087000       0.00      0.00      0.00       1.0\n",
            "     3115000       0.00      0.00      0.00       1.0\n",
            "     3118850       0.00      0.00      0.00       0.0\n",
            "     3150000       0.00      0.00      0.00       2.0\n",
            "     3290000       0.00      0.00      0.00       4.0\n",
            "     3325000       0.00      0.00      0.00       1.0\n",
            "     3332000       0.00      0.00      0.00       0.0\n",
            "     3353000       0.00      0.00      0.00       1.0\n",
            "     3360000       0.00      0.00      0.00       2.0\n",
            "     3395000       0.00      0.00      0.00       0.0\n",
            "     3430000       0.00      0.00      0.00       2.0\n",
            "     3500000       0.00      0.00      0.00       1.0\n",
            "     3570000       0.00      0.00      0.00       3.0\n",
            "     3633000       0.00      0.00      0.00       1.0\n",
            "     3640000       0.00      0.00      0.00       1.0\n",
            "     3675000       0.00      0.00      0.00       1.0\n",
            "     3710000       0.00      0.00      0.00       1.0\n",
            "     3745000       0.00      0.00      0.00       1.0\n",
            "     3773000       0.00      0.00      0.00       0.0\n",
            "     3780000       0.00      0.00      0.00       2.0\n",
            "     3836000       0.00      0.00      0.00       1.0\n",
            "     3850000       0.00      0.00      0.00       2.0\n",
            "     3885000       0.00      0.00      0.00       0.0\n",
            "     3920000       0.00      0.00      0.00       1.0\n",
            "     3990000       0.00      0.00      0.00       1.0\n",
            "     4007500       0.00      0.00      0.00       1.0\n",
            "     4060000       0.00      0.00      0.00       1.0\n",
            "     4095000       0.00      0.00      0.00       2.0\n",
            "     4130000       0.00      0.00      0.00       0.0\n",
            "     4165000       0.00      0.00      0.00       0.0\n",
            "     4193000       0.00      0.00      0.00       1.0\n",
            "     4200000       0.00      0.00      0.00       5.0\n",
            "     4270000       0.00      0.00      0.00       0.0\n",
            "     4277000       0.00      0.00      0.00       0.0\n",
            "     4305000       0.00      0.00      0.00       1.0\n",
            "     4319000       0.00      0.00      0.00       1.0\n",
            "     4340000       0.00      0.00      0.00       1.0\n",
            "     4403000       0.00      0.00      0.00       2.0\n",
            "     4480000       0.00      0.00      0.00       1.0\n",
            "     4515000       0.00      0.00      0.00       1.0\n",
            "     4543000       0.00      0.00      0.00       0.0\n",
            "     4550000       0.00      0.00      0.00       2.0\n",
            "     4620000       0.00      0.00      0.00       1.0\n",
            "     4690000       0.00      0.00      0.00       1.0\n",
            "     4830000       0.00      0.00      0.00       2.0\n",
            "     4865000       0.00      0.00      0.00       1.0\n",
            "     4893000       0.00      0.00      0.00       1.0\n",
            "     4900000       0.00      0.00      0.00       0.0\n",
            "     5005000       0.00      0.00      0.00       1.0\n",
            "     5040000       0.00      0.00      0.00       1.0\n",
            "     5145000       0.00      0.00      0.00       1.0\n",
            "     5215000       0.00      0.00      0.00       1.0\n",
            "     5250000       0.00      0.00      0.00       1.0\n",
            "     5320000       0.00      0.00      0.00       1.0\n",
            "     5460000       0.00      0.00      0.00       2.0\n",
            "     5495000       0.00      0.00      0.00       1.0\n",
            "     5600000       0.00      0.00      0.00       2.0\n",
            "     5740000       0.00      0.00      0.00       2.0\n",
            "     5866000       0.00      0.00      0.00       1.0\n",
            "     5873000       0.00      0.00      0.00       0.0\n",
            "     5950000       0.00      0.00      0.00       1.0\n",
            "     6090000       0.00      0.00      0.00       2.0\n",
            "     6160000       0.00      0.00      0.00       2.0\n",
            "     6195000       0.00      0.00      0.00       0.0\n",
            "     6265000       0.00      0.00      0.00       1.0\n",
            "     6300000       0.00      0.00      0.00       1.0\n",
            "     6475000       0.00      0.00      0.00       1.0\n",
            "     6615000       0.00      0.00      0.00       1.0\n",
            "     6650000       0.00      0.00      0.00       3.0\n",
            "     6790000       0.00      0.00      0.00       1.0\n",
            "     7035000       0.00      0.00      0.00       0.0\n",
            "     7455000       0.00      0.00      0.00       1.0\n",
            "     7490000       0.00      0.00      0.00       1.0\n",
            "     7560000       0.00      0.00      0.00       0.0\n",
            "     7910000       0.00      0.00      0.00       1.0\n",
            "     8645000       0.00      0.00      0.00       1.0\n",
            "     8855000       0.00      0.00      0.00       1.0\n",
            "     8960000       0.00      0.00      0.00       1.0\n",
            "     9240000       0.00      0.00      0.00       1.0\n",
            "     9310000       0.00      0.00      0.00       1.0\n",
            "    12250000       0.00      0.00      0.00       1.0\n",
            "\n",
            "    accuracy                           0.00     109.0\n",
            "   macro avg       0.00      0.00      0.00     109.0\n",
            "weighted avg       0.00      0.00      0.00     109.0\n",
            "\n",
            "              precision    recall  f1-score   support\n",
            "\n",
            "     1750000       0.00      0.00      0.00         0\n",
            "     1767150       0.00      0.00      0.00         1\n",
            "     1855000       0.00      0.00      0.00         1\n",
            "     2310000       0.00      0.00      0.00         1\n",
            "     2345000       0.00      0.00      0.00         0\n",
            "     2450000       0.00      0.00      0.00         2\n",
            "     2485000       0.00      0.00      0.00         0\n",
            "     2520000       0.00      0.00      0.00         2\n",
            "     2590000       0.00      0.00      0.00         1\n",
            "     2604000       0.00      0.00      0.00         0\n",
            "     2660000       0.00      0.00      0.00         4\n",
            "     2800000       0.00      0.00      0.00         0\n",
            "     2870000       0.00      0.00      0.00         1\n",
            "     2940000       0.33      0.50      0.40         2\n",
            "     2975000       0.00      0.00      0.00         0\n",
            "     3003000       0.00      0.00      0.00         1\n",
            "     3010000       0.00      0.00      0.00         2\n",
            "     3045000       0.00      0.00      0.00         0\n",
            "     3080000       0.00      0.00      0.00         0\n",
            "     3087000       0.00      0.00      0.00         1\n",
            "     3115000       0.00      0.00      0.00         1\n",
            "     3129000       0.00      0.00      0.00         0\n",
            "     3143000       0.00      0.00      0.00         0\n",
            "     3150000       0.00      0.00      0.00         2\n",
            "     3220000       0.00      0.00      0.00         0\n",
            "     3290000       0.00      0.00      0.00         4\n",
            "     3325000       0.00      0.00      0.00         1\n",
            "     3332000       0.00      0.00      0.00         0\n",
            "     3353000       0.00      0.00      0.00         1\n",
            "     3360000       0.00      0.00      0.00         2\n",
            "     3395000       0.00      0.00      0.00         0\n",
            "     3430000       0.00      0.00      0.00         2\n",
            "     3465000       0.00      0.00      0.00         0\n",
            "     3493000       0.00      0.00      0.00         0\n",
            "     3500000       0.00      0.00      0.00         1\n",
            "     3570000       0.00      0.00      0.00         3\n",
            "     3633000       0.00      0.00      0.00         1\n",
            "     3640000       0.00      0.00      0.00         1\n",
            "     3675000       0.00      0.00      0.00         1\n",
            "     3710000       0.00      0.00      0.00         1\n",
            "     3745000       0.00      0.00      0.00         1\n",
            "     3773000       0.00      0.00      0.00         0\n",
            "     3780000       0.00      0.00      0.00         2\n",
            "     3815000       0.00      0.00      0.00         0\n",
            "     3836000       0.00      0.00      0.00         1\n",
            "     3850000       0.25      0.50      0.33         2\n",
            "     3920000       0.00      0.00      0.00         1\n",
            "     3990000       0.00      0.00      0.00         1\n",
            "     4007500       0.00      0.00      0.00         1\n",
            "     4060000       0.00      0.00      0.00         1\n",
            "     4095000       0.00      0.00      0.00         2\n",
            "     4165000       0.00      0.00      0.00         0\n",
            "     4193000       0.00      0.00      0.00         1\n",
            "     4200000       0.50      0.20      0.29         5\n",
            "     4270000       0.00      0.00      0.00         0\n",
            "     4305000       0.00      0.00      0.00         1\n",
            "     4319000       0.00      0.00      0.00         1\n",
            "     4340000       0.00      0.00      0.00         1\n",
            "     4382000       0.00      0.00      0.00         0\n",
            "     4403000       0.00      0.00      0.00         2\n",
            "     4473000       0.00      0.00      0.00         0\n",
            "     4480000       0.00      0.00      0.00         1\n",
            "     4515000       0.00      0.00      0.00         1\n",
            "     4550000       0.00      0.00      0.00         2\n",
            "     4585000       0.00      0.00      0.00         0\n",
            "     4620000       0.00      0.00      0.00         1\n",
            "     4690000       0.00      0.00      0.00         1\n",
            "     4760000       0.00      0.00      0.00         0\n",
            "     4830000       0.00      0.00      0.00         2\n",
            "     4865000       0.00      0.00      0.00         1\n",
            "     4893000       0.00      0.00      0.00         1\n",
            "     4900000       0.00      0.00      0.00         0\n",
            "     4907000       0.00      0.00      0.00         0\n",
            "     4970000       0.00      0.00      0.00         0\n",
            "     5005000       0.00      0.00      0.00         1\n",
            "     5033000       0.00      0.00      0.00         0\n",
            "     5040000       0.00      0.00      0.00         1\n",
            "     5145000       0.00      0.00      0.00         1\n",
            "     5215000       0.00      0.00      0.00         1\n",
            "     5250000       0.00      0.00      0.00         1\n",
            "     5320000       0.00      0.00      0.00         1\n",
            "     5383000       0.00      0.00      0.00         0\n",
            "     5460000       0.00      0.00      0.00         2\n",
            "     5495000       0.00      0.00      0.00         1\n",
            "     5530000       0.00      0.00      0.00         0\n",
            "     5600000       0.00      0.00      0.00         2\n",
            "     5652500       0.00      0.00      0.00         0\n",
            "     5740000       0.00      0.00      0.00         2\n",
            "     5866000       0.00      0.00      0.00         1\n",
            "     5950000       0.00      0.00      0.00         1\n",
            "     6020000       0.00      0.00      0.00         0\n",
            "     6090000       0.00      0.00      0.00         2\n",
            "     6107500       0.00      0.00      0.00         0\n",
            "     6160000       0.00      0.00      0.00         2\n",
            "     6195000       0.00      0.00      0.00         0\n",
            "     6265000       0.00      0.00      0.00         1\n",
            "     6300000       0.00      0.00      0.00         1\n",
            "     6440000       0.00      0.00      0.00         0\n",
            "     6475000       0.00      0.00      0.00         1\n",
            "     6615000       0.00      0.00      0.00         1\n",
            "     6650000       0.00      0.00      0.00         3\n",
            "     6790000       0.00      0.00      0.00         1\n",
            "     6895000       0.00      0.00      0.00         0\n",
            "     7420000       0.00      0.00      0.00         0\n",
            "     7455000       0.00      0.00      0.00         1\n",
            "     7490000       0.00      0.00      0.00         1\n",
            "     7560000       0.00      0.00      0.00         0\n",
            "     7875000       0.00      0.00      0.00         0\n",
            "     7910000       0.00      0.00      0.00         1\n",
            "     7980000       0.00      0.00      0.00         0\n",
            "     8080940       0.00      0.00      0.00         0\n",
            "     8575000       0.00      0.00      0.00         0\n",
            "     8645000       0.00      0.00      0.00         1\n",
            "     8750000       0.00      0.00      0.00         0\n",
            "     8855000       0.00      0.00      0.00         1\n",
            "     8890000       0.00      0.00      0.00         0\n",
            "     8960000       0.00      0.00      0.00         1\n",
            "     9240000       0.00      0.00      0.00         1\n",
            "     9310000       0.00      0.00      0.00         1\n",
            "    12250000       0.00      0.00      0.00         1\n",
            "\n",
            "    accuracy                           0.03       109\n",
            "   macro avg       0.01      0.01      0.01       109\n",
            "weighted avg       0.03      0.03      0.03       109\n",
            "\n"
          ]
        },
        {
          "name": "stderr",
          "output_type": "stream",
          "text": [
            "D:\\anaconda\\lib\\site-packages\\sklearn\\metrics\\_classification.py:1221: UndefinedMetricWarning: Precision and F-score are ill-defined and being set to 0.0 in labels with no predicted samples. Use `zero_division` parameter to control this behavior.\n",
            "  _warn_prf(average, modifier, msg_start, len(result))\n",
            "D:\\anaconda\\lib\\site-packages\\sklearn\\metrics\\_classification.py:1221: UndefinedMetricWarning: Recall and F-score are ill-defined and being set to 0.0 in labels with no true samples. Use `zero_division` parameter to control this behavior.\n",
            "  _warn_prf(average, modifier, msg_start, len(result))\n"
          ]
        }
      ],
      "source": [
        "print(classification_report(y_test,pred2))\n",
        "print(classification_report(y_test,pred3))\n",
        "print(classification_report(y_test,pred4))"
      ]
    },
    {
      "cell_type": "markdown",
      "metadata": {
        "id": "hzAyl9Pqe1vL"
      },
      "source": [
        "## Conclusion: The best model is 'Logistic Regression'"
      ]
    }
  ],
  "metadata": {
    "kernelspec": {
      "display_name": "Python 3",
      "language": "python",
      "name": "python3"
    },
    "language_info": {
      "codemirror_mode": {
        "name": "ipython",
        "version": 3
      },
      "file_extension": ".py",
      "mimetype": "text/x-python",
      "name": "python",
      "nbconvert_exporter": "python",
      "pygments_lexer": "ipython3",
      "version": "3.8.3"
    },
    "colab": {
      "provenance": []
    }
  },
  "nbformat": 4,
  "nbformat_minor": 0
}